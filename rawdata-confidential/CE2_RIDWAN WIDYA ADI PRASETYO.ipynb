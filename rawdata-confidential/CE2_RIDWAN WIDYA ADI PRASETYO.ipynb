{
 "cells": [
  {
   "cell_type": "code",
   "execution_count": 99,
   "id": "ec99bd90",
   "metadata": {},
   "outputs": [],
   "source": [
    "import math"
   ]
  },
  {
   "cell_type": "markdown",
   "id": "142d561c",
   "metadata": {},
   "source": [
    "## Problem 1: Who is in the third place?"
   ]
  },
  {
   "cell_type": "markdown",
   "id": "6b74bbca",
   "metadata": {},
   "source": [
    "Example 1:\n",
    "Input:\n",
    "\n",
    "names = [Andi, Budi, Charlie, Dilan, Echa]\n",
    "\n",
    "score = [80, 90, 95, 100, 85]\n",
    "\n",
    "Artinya, Andi mendapat nilai 80, Budi mendapat nilai 90, Charlie mendapat nilai 95, Dilan mendapat nilai 100, dan Echa mendapat nilai 85. Nilai terbaik pertama adalah 100, dan Dilan mendapat nilai. Skor terbaik kedua adalah 95, dan Charlie mendapatkannya. Skor terbaik ketiga adalah 90, dan Budi mendapatkannya. Jadi output kita harus Budi.\n",
    "\n",
    "Output: 'The third winner: Budi'.\n",
    "\n",
    "Saat kita menjalankan third_place(names, score), outputnya akan 'The third winner: Budi'."
   ]
  },
  {
   "cell_type": "code",
   "execution_count": 111,
   "id": "2a1cc846",
   "metadata": {},
   "outputs": [],
   "source": [
    "def third_place(names, score):\n",
    "    names = ['Andi', 'Budi', 'Charlie', 'Dilan', 'Echa']\n",
    "    scores = [80, 90, 95, 100, 85]\n",
    "    result = sorted(zip(names, scores), key=lambda x: x[1])[0][0]\n",
    "    return print('the third winner :',result)"
   ]
  },
  {
   "cell_type": "code",
   "execution_count": 112,
   "id": "f14e94a0",
   "metadata": {},
   "outputs": [
    {
     "name": "stdout",
     "output_type": "stream",
     "text": [
      "the third winner : Andi\n"
     ]
    }
   ],
   "source": [
    "third_place('Budi',90)"
   ]
  },
  {
   "cell_type": "markdown",
   "id": "34a3e7c0",
   "metadata": {},
   "source": [
    "Example 2:\n",
    "Input:\n",
    "\n",
    "names = [Andi, Budi, Charlie, Dilan, Echa]\n",
    "\n",
    "score = [80, 80, 80, 100, 90]\n",
    "\n",
    "Tartinya, Andi, Budi, dan Charlie mendapat nilai 80, Dilan mendapat nilai 100, dan Echa mendapat nilai 90. Nilai terbaik ketiga adalah 80, dan output kita harus mencantumkan SEMUA peserta yang mendapat nilai 80.\n",
    "\n",
    "Output: 'The third winner: Andi, Budi, Charlie'.\n",
    "\n",
    "Apabila kita menjalankan third_place(names, score), outputnya adalah 'The third winner: Andi, Budi, Charlie'."
   ]
  },
  {
   "cell_type": "code",
   "execution_count": 102,
   "id": "eff440ab",
   "metadata": {},
   "outputs": [],
   "source": [
    "def third_place(names, score):\n",
    "    names = ['Andi', 'Budi', 'Charlie', 'Dilan', 'Echa']\n",
    "    scores = [80, 80, 80, 100, 90]\n",
    "\n",
    "    sorted_list = sorted(zip(names, scores), key=lambda x: x[1])\n",
    "    third_highest_score = sorted_list[-3][1]\n",
    "    print('the third winner :',[name for name, score in sorted_list if score == third_highest_score])"
   ]
  },
  {
   "cell_type": "code",
   "execution_count": 103,
   "id": "681d9abf",
   "metadata": {},
   "outputs": [
    {
     "name": "stdout",
     "output_type": "stream",
     "text": [
      "the third winner : ['Andi', 'Budi', 'Charlie']\n"
     ]
    }
   ],
   "source": [
    "third_place(names, score)"
   ]
  },
  {
   "cell_type": "markdown",
   "id": "c77f57ae",
   "metadata": {},
   "source": [
    "Example 3:\n",
    "Input:\n",
    "\n",
    "names = [Andi, Budi, Charlie, Dilan, Echa, Fanya]\n",
    "\n",
    "score = [80, 90, 90, 100, 100, 80]\n",
    "\n",
    "Skor terbaik pertama (juara pertama) adalah 100 - Dilan dan Echa berbagi posisi ini. Skor terbaik kedua (pemenang kedua) adalah 90 - Budi dan Charlie berbagi posisi ini. Skor terbaik ketiga (juara ketiga) adalah 80, dan itu dibagi oleh Andi dan Fanya. Jadi, output kita harusnya Andi dan Fanya.\n",
    "\n",
    "Output: 'The third winner: Andi, Fanya'."
   ]
  },
  {
   "cell_type": "code",
   "execution_count": 104,
   "id": "a0071d67",
   "metadata": {},
   "outputs": [],
   "source": [
    "def third_place(names, score):\n",
    "    names = ['Andi', 'Budi', 'Charlie', 'Dilan', 'Echa','Fanya']\n",
    "    scores = [80, 90, 90, 100, 100, 80]\n",
    "    \n",
    "    sorted_list = sorted(zip(names, scores), key=lambda x: x[1])\n",
    "    third_highest_score = sorted_list[1][1]\n",
    "    print('the third winner :',[name for name, score in sorted_list if score == third_highest_score])"
   ]
  },
  {
   "cell_type": "code",
   "execution_count": 105,
   "id": "2073c72a",
   "metadata": {},
   "outputs": [
    {
     "name": "stdout",
     "output_type": "stream",
     "text": [
      "the third winner : ['Andi', 'Fanya']\n"
     ]
    }
   ],
   "source": [
    "third_place(names, score)"
   ]
  },
  {
   "cell_type": "markdown",
   "id": "3e4b9acd",
   "metadata": {},
   "source": [
    "## Problem 2: Find the Square Root!"
   ]
  },
  {
   "cell_type": "markdown",
   "id": "59c827d7",
   "metadata": {},
   "source": [
    "Example 1:\n",
    "Input: a = 1, b = -5, c = 6.\n",
    "\n",
    "Artinya, persamaannya adalah 1x^2 - 5x + 6 = 0. Persamaan ini memiliki dua solusi, solusi pertama adalah x = 3, dan solusi kedua adalah x = 2. Jadi, keluaran Anda seharusnya adalah:\n",
    "\n",
    "Output: 'X1 = 3, X2 = 2'.\n",
    "\n",
    "Apabila kita menjalankan kode square_root(1, -5, 6) maka outputnya adalah: 'X1 = 3, X2 = 2'\n",
    "\n",
    "Example 2:\n",
    "Input: a = 2, b = 4, c = 2.\n",
    "\n",
    "Artinya, persamaannya adalah 2x^2 + 4x + 2 = 0. Persamaan ini hanya memiliki satu solusi, yaitu x = -1.\n",
    "\n",
    "Output; 'X = -1'.\n",
    "\n",
    "Example 3:\n",
    "Input: a = 1, b = 1, c = 9.\n",
    "\n",
    "Artinya, persamaannya adalah x^2 + x + 9 = 0. Persamaan ini tidak memiliki solusi nyata. (Jika Anda telah belajar tentang bilangan imajiner atau kompleks, solusi dari persamaan ini adalah bilangan-bilangan tersebut. Tapi di sini, kita hanya akan berurusan dengan bilangan real).\n",
    "\n",
    "Output: 'No solution'."
   ]
  },
  {
   "cell_type": "code",
   "execution_count": 106,
   "id": "a6d424f4",
   "metadata": {},
   "outputs": [],
   "source": [
    "def square_root(a,b,c) :\n",
    "    \n",
    "    d = b**2-4*a*c # discriminant\n",
    "    \n",
    "    if d < 0:\n",
    "        print (\"No solution\")\n",
    "    elif d == 0:\n",
    "        x = (-b+math.sqrt(b**2-4*a*c))/(2*a)\n",
    "        print (\"Persamaan ini hanya memiliki satu solusi : \", x)\n",
    "    else:\n",
    "        x1 = (-b+math.sqrt((b**2)-(4*(a*c))))/(2*a)\n",
    "        x2 = (-b-math.sqrt((b**2)-(4*(a*c))))/(2*a)\n",
    "        print (\"Persamaan ini hanya memiliki dua solusi: \", x1, \" or\", x2)"
   ]
  },
  {
   "cell_type": "code",
   "execution_count": 107,
   "id": "ab3aa1c4",
   "metadata": {
    "scrolled": true
   },
   "outputs": [
    {
     "name": "stdout",
     "output_type": "stream",
     "text": [
      "Enter the coefficients of a: 2\n",
      "Enter the coefficients of b: 4\n",
      "Enter the coefficients of c: 2\n",
      "Persamaan ini hanya memiliki satu solusi :  -1.0\n"
     ]
    }
   ],
   "source": [
    "# saya bikinnya biar mudah untuk dicek bisa diinput dengan manual menggunakan fungsi input.\n",
    "\n",
    "a = int(input(\"Enter the coefficients of a: \"))\n",
    "b = int(input(\"Enter the coefficients of b: \"))\n",
    "c = int(input(\"Enter the coefficients of c: \"))\n",
    "\n",
    "square_root(a,b,c)\n",
    "\n"
   ]
  },
  {
   "cell_type": "markdown",
   "id": "df05f2ea",
   "metadata": {},
   "source": [
    "## Problem 3: Find Distance Between Two Coordinates - Easy"
   ]
  },
  {
   "cell_type": "code",
   "execution_count": 108,
   "id": "07aa2fb1",
   "metadata": {},
   "outputs": [],
   "source": [
    "def distance(point_1, point_2):\n",
    "    result = math.dist(point_1,point_2)\n",
    "    return result"
   ]
  },
  {
   "cell_type": "markdown",
   "id": "9fda857e",
   "metadata": {},
   "source": [
    "Example 1:\n",
    "Input:\n",
    "\n",
    "point_1 = [5, 5]\n",
    "\n",
    "point_2 = [1, 2]\n",
    "\n",
    "Akar kuadrat dari ((5-1)^2 + (5-2)^2) = Akar kuadrat dari (16 + 9) = Akar kuadrat dari (25) = 5.\n",
    "\n",
    "Output: 'The distance is 5.'"
   ]
  },
  {
   "cell_type": "code",
   "execution_count": 109,
   "id": "c6a7897e",
   "metadata": {},
   "outputs": [
    {
     "data": {
      "text/plain": [
       "5.0"
      ]
     },
     "execution_count": 109,
     "metadata": {},
     "output_type": "execute_result"
    }
   ],
   "source": [
    "distance([5, 5],[1, 2])"
   ]
  },
  {
   "cell_type": "markdown",
   "id": "7988bacd",
   "metadata": {},
   "source": [
    "Example 2:\n",
    "Input:\n",
    "\n",
    "point_1 = [0,-1]\n",
    "\n",
    "point_2 = [-3, 2]\n",
    "\n",
    "Akar kuadrat dari ((0- -3)^2 + (-1-2)^2) = Akar kuadrat dari (9 + 9) = Akar kuadrat dari (18) = 4,242640687\n",
    "\n",
    "Output: 'The distance is 4.242640687'."
   ]
  },
  {
   "cell_type": "code",
   "execution_count": 110,
   "id": "196ec6fa",
   "metadata": {},
   "outputs": [
    {
     "data": {
      "text/plain": [
       "4.242640687119286"
      ]
     },
     "execution_count": 110,
     "metadata": {},
     "output_type": "execute_result"
    }
   ],
   "source": [
    "distance([0, -1],[-3, 2])"
   ]
  }
 ],
 "metadata": {
  "kernelspec": {
   "display_name": "Python 3 (ipykernel)",
   "language": "python",
   "name": "python3"
  },
  "language_info": {
   "codemirror_mode": {
    "name": "ipython",
    "version": 3
   },
   "file_extension": ".py",
   "mimetype": "text/x-python",
   "name": "python",
   "nbconvert_exporter": "python",
   "pygments_lexer": "ipython3",
   "version": "3.9.7"
  }
 },
 "nbformat": 4,
 "nbformat_minor": 5
}
