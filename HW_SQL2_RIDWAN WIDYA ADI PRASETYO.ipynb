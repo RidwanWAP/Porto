{
 "cells": [
  {
   "cell_type": "markdown",
   "metadata": {
    "id": "KssueTfgLXAV"
   },
   "source": [
    "# Import Package"
   ]
  },
  {
   "cell_type": "code",
   "execution_count": 2,
   "metadata": {
    "id": "pfq0tYZ6LcXb"
   },
   "outputs": [],
   "source": [
    "import psycopg2\n",
    "import pandas as pd\n",
    "\n",
    "from sqlalchemy import create_engine"
   ]
  },
  {
   "cell_type": "markdown",
   "metadata": {
    "id": "fWdAM6JK3w2n"
   },
   "source": [
    "# Load Connecting"
   ]
  },
  {
   "cell_type": "code",
   "execution_count": 3,
   "metadata": {
    "id": "z8Y6TmiI35zo"
   },
   "outputs": [],
   "source": [
    "# Connection details\n",
    "host_p='horton.db.elephantsql.com'\n",
    "database_p='gcxukoyd'\n",
    "user_p='gcxukoyd'\n",
    "password_p='QifGNuuzNymyq1GzStWeUEDI133MS2h3'\n",
    "port_p = 5432\n",
    "\n",
    "# #establishing the connection\n",
    "conn = psycopg2.connect(database=database_p, user=user_p, password=password_p, host=host_p, port=port_p)\n",
    "#Creating a cursor object using the cursor() method\n",
    "conn.autocommit = True \n",
    "cursor = conn.cursor()\n",
    "\n",
    "connection_string = f'postgresql://{user_p}:{password_p}@{host_p}:{port_p}/{database_p}'\n",
    "engine_postgresql = create_engine(connection_string)"
   ]
  },
  {
   "cell_type": "markdown",
   "metadata": {
    "id": "pppv2NbgJPfJ"
   },
   "source": [
    "# Soal 1"
   ]
  },
  {
   "cell_type": "markdown",
   "metadata": {
    "id": "birX2zzAJzHQ"
   },
   "source": [
    "Soal Filter : Tampilkan data customer dengan kriteria atau filter<br>\n",
    "\n",
    "\n",
    "*   age harus di bawah rata-rata age seluruh customer, misal rata-rata age adalah 20, maka filter pertama menampilkan data dengan age < 20. **NOTE : cari dulu rata-rata age dengan query/sql**\n",
    "*   gender hanya M (male)\n",
    "*   tahun kelahiran harus di bawah 1990-01-01\n",
    "\n",
    "\n"
   ]
  },
  {
   "cell_type": "code",
   "execution_count": 4,
   "metadata": {
    "colab": {
     "base_uri": "https://localhost:8080/",
     "height": 224
    },
    "executionInfo": {
     "elapsed": 2337,
     "status": "ok",
     "timestamp": 1671098432477,
     "user": {
      "displayName": "arif romadhan",
      "userId": "09305640489327215480"
     },
     "user_tz": -420
    },
    "id": "Yag_EwxpJQdv",
    "outputId": "e9676ee3-60a8-4a80-8327-8d08fe83e3ad"
   },
   "outputs": [
    {
     "name": "stdout",
     "output_type": "stream",
     "text": [
      "(154, 9)\n"
     ]
    },
    {
     "data": {
      "text/html": [
       "<div>\n",
       "<style scoped>\n",
       "    .dataframe tbody tr th:only-of-type {\n",
       "        vertical-align: middle;\n",
       "    }\n",
       "\n",
       "    .dataframe tbody tr th {\n",
       "        vertical-align: top;\n",
       "    }\n",
       "\n",
       "    .dataframe thead th {\n",
       "        text-align: right;\n",
       "    }\n",
       "</style>\n",
       "<table border=\"1\" class=\"dataframe\">\n",
       "  <thead>\n",
       "    <tr style=\"text-align: right;\">\n",
       "      <th></th>\n",
       "      <th>customer_id</th>\n",
       "      <th>geography_id</th>\n",
       "      <th>customer_name</th>\n",
       "      <th>birthdate</th>\n",
       "      <th>maritalstatus</th>\n",
       "      <th>gender</th>\n",
       "      <th>datefirstpurchase</th>\n",
       "      <th>age</th>\n",
       "      <th>grouping_age</th>\n",
       "    </tr>\n",
       "  </thead>\n",
       "  <tbody>\n",
       "    <tr>\n",
       "      <th>0</th>\n",
       "      <td>11013</td>\n",
       "      <td>543</td>\n",
       "      <td>Ian Jenkins</td>\n",
       "      <td>1988-08-06</td>\n",
       "      <td>M</td>\n",
       "      <td>M</td>\n",
       "      <td>2018-10-15</td>\n",
       "      <td>34</td>\n",
       "      <td>Group 21 - 40</td>\n",
       "    </tr>\n",
       "    <tr>\n",
       "      <th>1</th>\n",
       "      <td>11094</td>\n",
       "      <td>33</td>\n",
       "      <td>Cedric Ma</td>\n",
       "      <td>1982-04-01</td>\n",
       "      <td>S</td>\n",
       "      <td>M</td>\n",
       "      <td>2018-10-09</td>\n",
       "      <td>40</td>\n",
       "      <td>Group 21 - 40</td>\n",
       "    </tr>\n",
       "    <tr>\n",
       "      <th>2</th>\n",
       "      <td>11095</td>\n",
       "      <td>13</td>\n",
       "      <td>Chad Kumar</td>\n",
       "      <td>1982-09-01</td>\n",
       "      <td>S</td>\n",
       "      <td>M</td>\n",
       "      <td>2016-10-02</td>\n",
       "      <td>40</td>\n",
       "      <td>Group 21 - 40</td>\n",
       "    </tr>\n",
       "    <tr>\n",
       "      <th>3</th>\n",
       "      <td>11096</td>\n",
       "      <td>12</td>\n",
       "      <td>Andrés Anand</td>\n",
       "      <td>1982-08-10</td>\n",
       "      <td>M</td>\n",
       "      <td>M</td>\n",
       "      <td>2016-10-12</td>\n",
       "      <td>40</td>\n",
       "      <td>Group 21 - 40</td>\n",
       "    </tr>\n",
       "    <tr>\n",
       "      <th>4</th>\n",
       "      <td>11104</td>\n",
       "      <td>23</td>\n",
       "      <td>Edgar Sara</td>\n",
       "      <td>1984-03-11</td>\n",
       "      <td>M</td>\n",
       "      <td>M</td>\n",
       "      <td>2016-11-04</td>\n",
       "      <td>38</td>\n",
       "      <td>Group 21 - 40</td>\n",
       "    </tr>\n",
       "  </tbody>\n",
       "</table>\n",
       "</div>"
      ],
      "text/plain": [
       "   customer_id  geography_id customer_name   birthdate maritalstatus gender  \\\n",
       "0        11013           543   Ian Jenkins  1988-08-06             M      M   \n",
       "1        11094            33     Cedric Ma  1982-04-01             S      M   \n",
       "2        11095            13    Chad Kumar  1982-09-01             S      M   \n",
       "3        11096            12  Andrés Anand  1982-08-10             M      M   \n",
       "4        11104            23    Edgar Sara  1984-03-11             M      M   \n",
       "\n",
       "  datefirstpurchase  age   grouping_age  \n",
       "0        2018-10-15   34  Group 21 - 40  \n",
       "1        2018-10-09   40  Group 21 - 40  \n",
       "2        2016-10-02   40  Group 21 - 40  \n",
       "3        2016-10-12   40  Group 21 - 40  \n",
       "4        2016-11-04   38  Group 21 - 40  "
      ]
     },
     "execution_count": 4,
     "metadata": {},
     "output_type": "execute_result"
    }
   ],
   "source": [
    "q='''\n",
    "SELECT * FROM dim_customer\n",
    "WHERE birthdate <=  '1990-01-01'\n",
    "and gender = 'M'\n",
    "and age <= (SELECT AVG(age) \n",
    "    FROM dim_customer)\n",
    "'''\n",
    "\n",
    "df = pd.read_sql(q,engine_postgresql)\n",
    "print(df.shape)\n",
    "df.head()"
   ]
  },
  {
   "cell_type": "markdown",
   "metadata": {
    "id": "b10-G6U7KqYx"
   },
   "source": [
    "# Soal 2"
   ]
  },
  {
   "cell_type": "markdown",
   "metadata": {
    "id": "R76d1mK7MZ8F"
   },
   "source": [
    "Buat lah Query dengan tampilan data seperti di bawah ini"
   ]
  },
  {
   "cell_type": "code",
   "execution_count": 5,
   "metadata": {
    "colab": {
     "base_uri": "https://localhost:8080/",
     "height": 224
    },
    "executionInfo": {
     "elapsed": 1350,
     "status": "ok",
     "timestamp": 1671098433815,
     "user": {
      "displayName": "arif romadhan",
      "userId": "09305640489327215480"
     },
     "user_tz": -420
    },
    "id": "InlKa7KvL9Pp",
    "outputId": "31e7beee-1664-408d-9f91-39da24bbab8c"
   },
   "outputs": [
    {
     "name": "stdout",
     "output_type": "stream",
     "text": [
      "(5953, 5)\n"
     ]
    },
    {
     "data": {
      "text/html": [
       "<div>\n",
       "<style scoped>\n",
       "    .dataframe tbody tr th:only-of-type {\n",
       "        vertical-align: middle;\n",
       "    }\n",
       "\n",
       "    .dataframe tbody tr th {\n",
       "        vertical-align: top;\n",
       "    }\n",
       "\n",
       "    .dataframe thead th {\n",
       "        text-align: right;\n",
       "    }\n",
       "</style>\n",
       "<table border=\"1\" class=\"dataframe\">\n",
       "  <thead>\n",
       "    <tr style=\"text-align: right;\">\n",
       "      <th></th>\n",
       "      <th>order_detail_id</th>\n",
       "      <th>product_name</th>\n",
       "      <th>customer_name</th>\n",
       "      <th>city</th>\n",
       "      <th>region</th>\n",
       "    </tr>\n",
       "  </thead>\n",
       "  <tbody>\n",
       "    <tr>\n",
       "      <th>0</th>\n",
       "      <td>SO43698-1</td>\n",
       "      <td>Mountain-100 Silver, 44</td>\n",
       "      <td>Rachael Martinez</td>\n",
       "      <td>Pantin</td>\n",
       "      <td>France</td>\n",
       "    </tr>\n",
       "    <tr>\n",
       "      <th>1</th>\n",
       "      <td>SO43704-1</td>\n",
       "      <td>Mountain-100 Black, 48</td>\n",
       "      <td>Julio Ruiz</td>\n",
       "      <td>East Brisbane</td>\n",
       "      <td>Australia</td>\n",
       "    </tr>\n",
       "    <tr>\n",
       "      <th>2</th>\n",
       "      <td>SO43705-1</td>\n",
       "      <td>Mountain-100 Silver, 38</td>\n",
       "      <td>Curtis Lu</td>\n",
       "      <td>East Brisbane</td>\n",
       "      <td>Australia</td>\n",
       "    </tr>\n",
       "    <tr>\n",
       "      <th>3</th>\n",
       "      <td>SO43713-1</td>\n",
       "      <td>Road-150 Red, 62</td>\n",
       "      <td>Sydney Rogers</td>\n",
       "      <td>Burbank</td>\n",
       "      <td>Southwest</td>\n",
       "    </tr>\n",
       "    <tr>\n",
       "      <th>4</th>\n",
       "      <td>SO43714-1</td>\n",
       "      <td>Road-150 Red, 44</td>\n",
       "      <td>Latasha Alonso</td>\n",
       "      <td>York</td>\n",
       "      <td>United Kingdom</td>\n",
       "    </tr>\n",
       "  </tbody>\n",
       "</table>\n",
       "</div>"
      ],
      "text/plain": [
       "  order_detail_id             product_name     customer_name           city  \\\n",
       "0       SO43698-1  Mountain-100 Silver, 44  Rachael Martinez         Pantin   \n",
       "1       SO43704-1   Mountain-100 Black, 48        Julio Ruiz  East Brisbane   \n",
       "2       SO43705-1  Mountain-100 Silver, 38         Curtis Lu  East Brisbane   \n",
       "3       SO43713-1         Road-150 Red, 62     Sydney Rogers        Burbank   \n",
       "4       SO43714-1         Road-150 Red, 44    Latasha Alonso           York   \n",
       "\n",
       "           region  \n",
       "0          France  \n",
       "1       Australia  \n",
       "2       Australia  \n",
       "3       Southwest  \n",
       "4  United Kingdom  "
      ]
     },
     "execution_count": 5,
     "metadata": {},
     "output_type": "execute_result"
    }
   ],
   "source": [
    "q='''\n",
    "SELECT fs.order_detail_id, dp.product_name,dc.customer_name,dg.city,dt.region\n",
    "FROM fact_sales fs\n",
    "JOIN dim_customer dc\n",
    "  ON dc.customer_id = fs.customer_id\n",
    "JOIN dim_product dp\n",
    "  ON dp.product_id = fs.product_id\n",
    "JOIN dim_territory dt\n",
    "  ON dt.territory_id = fs.territory_id\n",
    "JOIN dim_geography dg\n",
    "  ON dg.geography_id = dc.geography_id\n",
    "'''\n",
    "\n",
    "df = pd.read_sql(q,engine_postgresql)\n",
    "print(df.shape)\n",
    "df.head()"
   ]
  },
  {
   "cell_type": "markdown",
   "metadata": {
    "id": "axe4EDfFMfx6"
   },
   "source": [
    "# Soal 3"
   ]
  },
  {
   "cell_type": "markdown",
   "metadata": {
    "id": "8410SqAYNNch"
   },
   "source": [
    "Tampilkan omset rata-rata perbulan dengan order month descending"
   ]
  },
  {
   "cell_type": "code",
   "execution_count": null,
   "metadata": {
    "colab": {
     "base_uri": "https://localhost:8080/",
     "height": 443
    },
    "executionInfo": {
     "elapsed": 589,
     "status": "ok",
     "timestamp": 1671098449110,
     "user": {
      "displayName": "arif romadhan",
      "userId": "09305640489327215480"
     },
     "user_tz": -420
    },
    "id": "GaL_usR5Jmgl",
    "outputId": "44c2d0c8-3593-4149-c4ff-f79436b9f8ff"
   },
   "outputs": [
    {
     "name": "stdout",
     "output_type": "stream",
     "text": [
      "(12, 2)\n"
     ]
    },
    {
     "data": {
      "text/html": [
       "\n",
       "  <div id=\"df-b1548444-d0cc-437b-be7a-f98518c4acbf\">\n",
       "    <div class=\"colab-df-container\">\n",
       "      <div>\n",
       "<style scoped>\n",
       "    .dataframe tbody tr th:only-of-type {\n",
       "        vertical-align: middle;\n",
       "    }\n",
       "\n",
       "    .dataframe tbody tr th {\n",
       "        vertical-align: top;\n",
       "    }\n",
       "\n",
       "    .dataframe thead th {\n",
       "        text-align: right;\n",
       "    }\n",
       "</style>\n",
       "<table border=\"1\" class=\"dataframe\">\n",
       "  <thead>\n",
       "    <tr style=\"text-align: right;\">\n",
       "      <th></th>\n",
       "      <th>month</th>\n",
       "      <th>total_omset</th>\n",
       "    </tr>\n",
       "  </thead>\n",
       "  <tbody>\n",
       "    <tr>\n",
       "      <th>0</th>\n",
       "      <td>12.0</td>\n",
       "      <td>5.341223e+06</td>\n",
       "    </tr>\n",
       "    <tr>\n",
       "      <th>1</th>\n",
       "      <td>11.0</td>\n",
       "      <td>4.851475e+06</td>\n",
       "    </tr>\n",
       "    <tr>\n",
       "      <th>2</th>\n",
       "      <td>10.0</td>\n",
       "      <td>5.012182e+06</td>\n",
       "    </tr>\n",
       "    <tr>\n",
       "      <th>3</th>\n",
       "      <td>9.0</td>\n",
       "      <td>4.603846e+06</td>\n",
       "    </tr>\n",
       "    <tr>\n",
       "      <th>4</th>\n",
       "      <td>8.0</td>\n",
       "      <td>4.966883e+06</td>\n",
       "    </tr>\n",
       "    <tr>\n",
       "      <th>5</th>\n",
       "      <td>7.0</td>\n",
       "      <td>7.129074e+06</td>\n",
       "    </tr>\n",
       "    <tr>\n",
       "      <th>6</th>\n",
       "      <td>6.0</td>\n",
       "      <td>5.888909e+06</td>\n",
       "    </tr>\n",
       "    <tr>\n",
       "      <th>7</th>\n",
       "      <td>5.0</td>\n",
       "      <td>6.011666e+06</td>\n",
       "    </tr>\n",
       "    <tr>\n",
       "      <th>8</th>\n",
       "      <td>4.0</td>\n",
       "      <td>6.601118e+06</td>\n",
       "    </tr>\n",
       "    <tr>\n",
       "      <th>9</th>\n",
       "      <td>3.0</td>\n",
       "      <td>9.767824e+06</td>\n",
       "    </tr>\n",
       "    <tr>\n",
       "      <th>10</th>\n",
       "      <td>2.0</td>\n",
       "      <td>4.764898e+06</td>\n",
       "    </tr>\n",
       "    <tr>\n",
       "      <th>11</th>\n",
       "      <td>1.0</td>\n",
       "      <td>4.422646e+06</td>\n",
       "    </tr>\n",
       "  </tbody>\n",
       "</table>\n",
       "</div>\n",
       "      <button class=\"colab-df-convert\" onclick=\"convertToInteractive('df-b1548444-d0cc-437b-be7a-f98518c4acbf')\"\n",
       "              title=\"Convert this dataframe to an interactive table.\"\n",
       "              style=\"display:none;\">\n",
       "        \n",
       "  <svg xmlns=\"http://www.w3.org/2000/svg\" height=\"24px\"viewBox=\"0 0 24 24\"\n",
       "       width=\"24px\">\n",
       "    <path d=\"M0 0h24v24H0V0z\" fill=\"none\"/>\n",
       "    <path d=\"M18.56 5.44l.94 2.06.94-2.06 2.06-.94-2.06-.94-.94-2.06-.94 2.06-2.06.94zm-11 1L8.5 8.5l.94-2.06 2.06-.94-2.06-.94L8.5 2.5l-.94 2.06-2.06.94zm10 10l.94 2.06.94-2.06 2.06-.94-2.06-.94-.94-2.06-.94 2.06-2.06.94z\"/><path d=\"M17.41 7.96l-1.37-1.37c-.4-.4-.92-.59-1.43-.59-.52 0-1.04.2-1.43.59L10.3 9.45l-7.72 7.72c-.78.78-.78 2.05 0 2.83L4 21.41c.39.39.9.59 1.41.59.51 0 1.02-.2 1.41-.59l7.78-7.78 2.81-2.81c.8-.78.8-2.07 0-2.86zM5.41 20L4 18.59l7.72-7.72 1.47 1.35L5.41 20z\"/>\n",
       "  </svg>\n",
       "      </button>\n",
       "      \n",
       "  <style>\n",
       "    .colab-df-container {\n",
       "      display:flex;\n",
       "      flex-wrap:wrap;\n",
       "      gap: 12px;\n",
       "    }\n",
       "\n",
       "    .colab-df-convert {\n",
       "      background-color: #E8F0FE;\n",
       "      border: none;\n",
       "      border-radius: 50%;\n",
       "      cursor: pointer;\n",
       "      display: none;\n",
       "      fill: #1967D2;\n",
       "      height: 32px;\n",
       "      padding: 0 0 0 0;\n",
       "      width: 32px;\n",
       "    }\n",
       "\n",
       "    .colab-df-convert:hover {\n",
       "      background-color: #E2EBFA;\n",
       "      box-shadow: 0px 1px 2px rgba(60, 64, 67, 0.3), 0px 1px 3px 1px rgba(60, 64, 67, 0.15);\n",
       "      fill: #174EA6;\n",
       "    }\n",
       "\n",
       "    [theme=dark] .colab-df-convert {\n",
       "      background-color: #3B4455;\n",
       "      fill: #D2E3FC;\n",
       "    }\n",
       "\n",
       "    [theme=dark] .colab-df-convert:hover {\n",
       "      background-color: #434B5C;\n",
       "      box-shadow: 0px 1px 3px 1px rgba(0, 0, 0, 0.15);\n",
       "      filter: drop-shadow(0px 1px 2px rgba(0, 0, 0, 0.3));\n",
       "      fill: #FFFFFF;\n",
       "    }\n",
       "  </style>\n",
       "\n",
       "      <script>\n",
       "        const buttonEl =\n",
       "          document.querySelector('#df-b1548444-d0cc-437b-be7a-f98518c4acbf button.colab-df-convert');\n",
       "        buttonEl.style.display =\n",
       "          google.colab.kernel.accessAllowed ? 'block' : 'none';\n",
       "\n",
       "        async function convertToInteractive(key) {\n",
       "          const element = document.querySelector('#df-b1548444-d0cc-437b-be7a-f98518c4acbf');\n",
       "          const dataTable =\n",
       "            await google.colab.kernel.invokeFunction('convertToInteractive',\n",
       "                                                     [key], {});\n",
       "          if (!dataTable) return;\n",
       "\n",
       "          const docLinkHtml = 'Like what you see? Visit the ' +\n",
       "            '<a target=\"_blank\" href=https://colab.research.google.com/notebooks/data_table.ipynb>data table notebook</a>'\n",
       "            + ' to learn more about interactive tables.';\n",
       "          element.innerHTML = '';\n",
       "          dataTable['output_type'] = 'display_data';\n",
       "          await google.colab.output.renderOutput(dataTable, element);\n",
       "          const docLink = document.createElement('div');\n",
       "          docLink.innerHTML = docLinkHtml;\n",
       "          element.appendChild(docLink);\n",
       "        }\n",
       "      </script>\n",
       "    </div>\n",
       "  </div>\n",
       "  "
      ],
      "text/plain": [
       "    month   total_omset\n",
       "0    12.0  5.341223e+06\n",
       "1    11.0  4.851475e+06\n",
       "2    10.0  5.012182e+06\n",
       "3     9.0  4.603846e+06\n",
       "4     8.0  4.966883e+06\n",
       "5     7.0  7.129074e+06\n",
       "6     6.0  5.888909e+06\n",
       "7     5.0  6.011666e+06\n",
       "8     4.0  6.601118e+06\n",
       "9     3.0  9.767824e+06\n",
       "10    2.0  4.764898e+06\n",
       "11    1.0  4.422646e+06"
      ]
     },
     "execution_count": 6,
     "metadata": {},
     "output_type": "execute_result"
    }
   ],
   "source": [
    "q='''\n",
    "SELECT MONTH(order_date) AS month, SUM(omset) AS total_omset\n",
    "FROM fact_sales\n",
    "GROUP BY month DESC\n",
    "\n",
    "'''\n",
    "df = pd.read_sql(q,engine_postgresql)\n",
    "print(df.shape)\n",
    "df"
   ]
  },
  {
   "cell_type": "markdown",
   "metadata": {
    "id": "noSJjBEmNhCD"
   },
   "source": [
    "# Soal 4"
   ]
  },
  {
   "cell_type": "markdown",
   "metadata": {
    "id": "biMMRBOiNqkH"
   },
   "source": [
    "Tampilkan data total omset antara laki-laki vs wanita\n",
    "\n",
    "\n",
    "*   age harus lebih 30 tahun\n",
    "*   category product adalah Bikes\n",
    "\n"
   ]
  },
  {
   "cell_type": "code",
   "execution_count": 6,
   "metadata": {
    "colab": {
     "base_uri": "https://localhost:8080/",
     "height": 130
    },
    "executionInfo": {
     "elapsed": 1051,
     "status": "ok",
     "timestamp": 1671098453503,
     "user": {
      "displayName": "arif romadhan",
      "userId": "09305640489327215480"
     },
     "user_tz": -420
    },
    "id": "sT_420fGK1zC",
    "outputId": "9a46a14a-db46-4483-a3b9-f10e6dccad07"
   },
   "outputs": [
    {
     "name": "stdout",
     "output_type": "stream",
     "text": [
      "(2, 2)\n"
     ]
    },
    {
     "data": {
      "text/html": [
       "<div>\n",
       "<style scoped>\n",
       "    .dataframe tbody tr th:only-of-type {\n",
       "        vertical-align: middle;\n",
       "    }\n",
       "\n",
       "    .dataframe tbody tr th {\n",
       "        vertical-align: top;\n",
       "    }\n",
       "\n",
       "    .dataframe thead th {\n",
       "        text-align: right;\n",
       "    }\n",
       "</style>\n",
       "<table border=\"1\" class=\"dataframe\">\n",
       "  <thead>\n",
       "    <tr style=\"text-align: right;\">\n",
       "      <th></th>\n",
       "      <th>gender</th>\n",
       "      <th>total</th>\n",
       "    </tr>\n",
       "  </thead>\n",
       "  <tbody>\n",
       "    <tr>\n",
       "      <th>0</th>\n",
       "      <td>M</td>\n",
       "      <td>1.211210e+10</td>\n",
       "    </tr>\n",
       "    <tr>\n",
       "      <th>1</th>\n",
       "      <td>F</td>\n",
       "      <td>1.376050e+10</td>\n",
       "    </tr>\n",
       "  </tbody>\n",
       "</table>\n",
       "</div>"
      ],
      "text/plain": [
       "  gender         total\n",
       "0      M  1.211210e+10\n",
       "1      F  1.376050e+10"
      ]
     },
     "execution_count": 6,
     "metadata": {},
     "output_type": "execute_result"
    }
   ],
   "source": [
    "q='''\n",
    "SELECT dc.gender, SUM(fs.omset) AS total\n",
    "FROM fact_sales fs\n",
    "JOIN dim_customer dc\n",
    "  ON dc.customer_id = fs.customer_id\n",
    "JOIN dim_product dp\n",
    "  ON dp.product_id = fs.product_id\n",
    "WHERE dc.age > 30 AND dp.category = 'Bikes'\n",
    "GROUP BY dc.gender\n",
    "'''\n",
    "\n",
    "df = pd.read_sql(q,engine_postgresql)\n",
    "print(df.shape)\n",
    "df"
   ]
  },
  {
   "cell_type": "code",
   "execution_count": null,
   "metadata": {},
   "outputs": [],
   "source": []
  }
 ],
 "metadata": {
  "colab": {
   "provenance": []
  },
  "kernelspec": {
   "display_name": "Python 3 (ipykernel)",
   "language": "python",
   "name": "python3"
  },
  "language_info": {
   "codemirror_mode": {
    "name": "ipython",
    "version": 3
   },
   "file_extension": ".py",
   "mimetype": "text/x-python",
   "name": "python",
   "nbconvert_exporter": "python",
   "pygments_lexer": "ipython3",
   "version": "3.9.7"
  }
 },
 "nbformat": 4,
 "nbformat_minor": 1
}
