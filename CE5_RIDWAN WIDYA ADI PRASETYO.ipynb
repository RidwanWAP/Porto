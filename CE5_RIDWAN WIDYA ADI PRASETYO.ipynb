{
 "cells": [
  {
   "cell_type": "markdown",
   "id": "c6466255",
   "metadata": {
    "id": "c6466255"
   },
   "source": [
    "## Welcome To Coding Exercise 5\n",
    "\n",
    "**You only need to answer 2 question**"
   ]
  },
  {
   "cell_type": "markdown",
   "id": "a7c27789",
   "metadata": {
    "id": "a7c27789"
   },
   "source": [
    "Hari ini, kita sedang membahas library yang sangat penting dalam Python yang disebut `numpy`. Minggu depan, kita akan membahas library lain yang sangat penting di Python bernama `pandas`. Untuk Latihan 9 dan 10, tidak akan ada pengkodean `R`.\n",
    "\n",
    "Kita akan kembali ke `R` di Day 11. \n",
    "\n",
    "Sebagai referensi, kedua library ini menjadi syarat utama Data Scientist di perusahaan teknologi papan atas Indonesia - sedangkan R tidak tercantum dalam persyaratan. \n",
    "\n",
    "Jadi, sangat penting untuk menguasai kedua library ini."
   ]
  },
  {
   "cell_type": "code",
   "execution_count": 1,
   "id": "16fc201b",
   "metadata": {
    "id": "16fc201b"
   },
   "outputs": [],
   "source": [
    "# !pip install -U IPython"
   ]
  },
  {
   "cell_type": "code",
   "execution_count": 2,
   "id": "ccc51955",
   "metadata": {
    "id": "ccc51955"
   },
   "outputs": [],
   "source": [
    "# from IPython.display import Image\n",
    "# Image(url= \"img/image1.jpg\", width=400, height=400)"
   ]
  },
  {
   "cell_type": "code",
   "execution_count": 3,
   "id": "d70e4ba5",
   "metadata": {
    "id": "d70e4ba5"
   },
   "outputs": [],
   "source": [
    "# from IPython.display import Image\n",
    "# Image(url= \"img/image2.jpg\", width=400, height=400)"
   ]
  },
  {
   "cell_type": "markdown",
   "id": "YeZX0LT7OOxv",
   "metadata": {
    "id": "YeZX0LT7OOxv"
   },
   "source": [
    "![image1.jpg](https://drive.google.com/uc?id=1_T8LPxMaYq06uW9JNqOy6Y0yIu_p9EZU)"
   ]
  },
  {
   "cell_type": "markdown",
   "id": "gZCRWVapOrh-",
   "metadata": {
    "id": "gZCRWVapOrh-"
   },
   "source": [
    "![image2.jpg](https://drive.google.com/uc?id=15E-Od0G_2eqvCnR9t8Div5V4adnGbswA)"
   ]
  },
  {
   "cell_type": "markdown",
   "id": "3a19695c",
   "metadata": {
    "id": "3a19695c"
   },
   "source": [
    "### Numpy Question 1 "
   ]
  },
  {
   "cell_type": "code",
   "execution_count": 4,
   "id": "34c5e1be",
   "metadata": {
    "id": "34c5e1be"
   },
   "outputs": [],
   "source": [
    "import numpy as np"
   ]
  },
  {
   "cell_type": "markdown",
   "id": "ce57b62e",
   "metadata": {
    "id": "ce57b62e"
   },
   "source": [
    "Fungsi Anda akan disebut `display_max`. Input Anda akan berupa `numpy array`. Output Anda akan memberi tahu di mana indeks adalah nilai maksimum dari setiap baris. Pisahkan output untuk setiap baris dengan koma.\n",
    "\n",
    "Jika ada lebih dari satu nilai maksimum, beri tahu posisi kejadian PERTAMA saja.\n",
    "\n",
    "#### Example 1\n",
    "\n",
    "Input array: `[[1,2,3,4,3], [5,10,8,3,2], [-5,7,8.4,1,0]]`\n",
    "\n",
    "Output: 3, 1, 2\n",
    "\n",
    "Penjelasan:\n",
    "\n",
    "- Baris pertama, `[1,2,3,4,3]`, memiliki nilai maksimum `4` pada indeks = 3 (Ingat! Ini Python. Indeks dimulai dari 0)\n",
    "\n",
    "- Baris kedua, `[5,10,8,3,2]`, memiliki nilai maksimum `10` pada indeks = 1\n",
    "\n",
    "- Baris ketiga, `[-5,7,8.4,1,0]`, memiliki nilai maksimum `8,4` pada indeks = 2\n",
    "\n",
    "Jadi, output Anda akan '3,1,2'\n",
    "\n",
    "#### Example 2\n",
    "\n",
    "Input array = `[[5,10,1,3], [1,5,1,5], [0,3,1,8]]`\n",
    "\n",
    "Output: 1,1,3\n",
    "\n",
    "Penjelasan:\n",
    "\n",
    "- Baris pertama, `[5,10,1,3]` memiliki nilai maksimum `10` pada indeks = 1\n",
    "- Baris kedua, `[1,5,1,5]` memiliki nilai maksimum `5` pada indeks = 1, 3. Tetapi kita hanya perlu mencetak kemunculan pertama, jadi kita hanya mencetak indeks = 1. \n",
    "- Baris ketiga, `[0,3,1,8]` memiliki nilai maksimum `8` pada indeks = 3.\n",
    "\n",
    "Jadi, output Anda akan '1,1,3'\n",
    "\n",
    "#### Constrains:\n",
    "- Jumlah baris bisa bilangan bulat berapa saja. Kita dapat memiliki input array dalam berbagai bentuk dan ukuran. "
   ]
  },
  {
   "cell_type": "markdown",
   "id": "b44f552a",
   "metadata": {},
   "source": [
    "## Answer"
   ]
  },
  {
   "cell_type": "code",
   "execution_count": 5,
   "id": "afc8949f",
   "metadata": {
    "id": "afc8949f"
   },
   "outputs": [],
   "source": [
    "def display_max(input_array):\n",
    "    a = np.array(input_array)\n",
    "    return np.argmax(a, axis = 1)"
   ]
  },
  {
   "cell_type": "code",
   "execution_count": 6,
   "id": "0d5868e7",
   "metadata": {},
   "outputs": [
    {
     "data": {
      "text/plain": [
       "array([3, 1, 2], dtype=int64)"
      ]
     },
     "execution_count": 6,
     "metadata": {},
     "output_type": "execute_result"
    }
   ],
   "source": [
    "## Example 1\n",
    "display_max([[1,2,3,4,3], [5,10,8,3,2], [-5,7,8.4,1,0]])"
   ]
  },
  {
   "cell_type": "code",
   "execution_count": 7,
   "id": "c6a76c4f",
   "metadata": {},
   "outputs": [
    {
     "data": {
      "text/plain": [
       "array([1, 1, 3], dtype=int64)"
      ]
     },
     "execution_count": 7,
     "metadata": {},
     "output_type": "execute_result"
    }
   ],
   "source": [
    "## Example 2\n",
    "display_max([[5,10,1,3], [1,5,1,5], [0,3,1,8]])"
   ]
  },
  {
   "cell_type": "markdown",
   "id": "56ec00a5",
   "metadata": {
    "id": "56ec00a5"
   },
   "source": [
    "### Numpy Question 2 \n"
   ]
  },
  {
   "cell_type": "markdown",
   "id": "a93c3748",
   "metadata": {
    "id": "a93c3748"
   },
   "source": [
    "##### Reminder untuk Class Managers and Students. ####\n",
    "\n",
    "Jika solusi memiliki perulangan `for`,`while`, Anda tidak mendapatkan poin penuh. Tujuan dari latihan ini adalah untuk menghindari perulangan saat melakukan hal-hal yang membutuhkan kondisi tertentu."
   ]
  },
  {
   "cell_type": "markdown",
   "id": "ab8fc5f3",
   "metadata": {
    "id": "ab8fc5f3"
   },
   "source": [
    "#### Instructions: ####"
   ]
  },
  {
   "cell_type": "markdown",
   "id": "95fe6946",
   "metadata": {
    "id": "95fe6946"
   },
   "source": [
    "Fungsi Anda akan bernama `grade`. Input Anda akan berupa array di mana setiap baris menunjukkan skor siswa. Output Anda akan berupa array DENGAN UKURAN YANG SAMA PERSIS dengan array input, tetapi hanya diisi dengan 'P' dan 'F'.\n",
    "\n",
    "- Jika nilai >= 70, maka untuk tes tersebut siswa dinyatakan lulus. Kita beri simbol 'P' untuk menandakan bahwa siswa tersebut lulus.\n",
    "- Jika skornya < 70, maka untuk tes tersebut, siswa tersebut gagal. Kita beri simbol 'F', untuk menandakan bahwa siswa tersebut gagal."
   ]
  },
  {
   "cell_type": "markdown",
   "id": "7a53a67f",
   "metadata": {
    "id": "7a53a67f"
   },
   "source": [
    "#### Example 1:"
   ]
  },
  {
   "cell_type": "code",
   "execution_count": 8,
   "id": "04e3a36f",
   "metadata": {
    "id": "04e3a36f",
    "outputId": "f91597e3-b44f-46b2-da4a-bd28f9931444"
   },
   "outputs": [
    {
     "data": {
      "text/plain": [
       "array([[ 80,  50,  80,  60,  70],\n",
       "       [100,  90,  80,  70,  50],\n",
       "       [ 70,  70,  60,  50,  85]])"
      ]
     },
     "execution_count": 8,
     "metadata": {},
     "output_type": "execute_result"
    }
   ],
   "source": [
    "input_array = np.array([[80,50,80,60,70],\n",
    "                       [100,90,80,70,50],\n",
    "                       [70,70,60,50,85]])\n",
    "input_array"
   ]
  },
  {
   "cell_type": "markdown",
   "id": "a38c80f4",
   "metadata": {
    "id": "a38c80f4"
   },
   "source": [
    "Jika inputnya seperti array di atas, berarti kita memiliki `3` siswa. Setiap siswa memiliki `5` nilai.\n",
    "\n",
    "- Nilai siswa pertama adalah: 80, 50, 80, 60, 70. Dari awal hingga akhir, siswa Lulus, Gagal, Lulus, Gagal, Lulus\n",
    "- Nilai siswa kedua adalah: 100, 90, 80, 70, 50. Dari pertama sampai terakhir, siswa Lulus, Lulus, Lulus, Lulus, Gagal\n",
    "- Nilai siswa ketiga adalah: 70, 70, 60, 50, 80. Dari awal hingga akhir, siswa Lulus, Lulus, Gagal, Gagal, Lulus"
   ]
  },
  {
   "cell_type": "markdown",
   "id": "b04480c7",
   "metadata": {
    "id": "b04480c7"
   },
   "source": [
    "Kemudian, ketika `grade(input_array)` dijalankan, output Anda akan seperti ini:\n",
    "`[[P,F,P,F,P],[P,P,P,P,F],[P,P,F,F,P]]`"
   ]
  },
  {
   "cell_type": "markdown",
   "id": "f04f7a81",
   "metadata": {
    "id": "f04f7a81"
   },
   "source": [
    "#### Example 2:"
   ]
  },
  {
   "cell_type": "code",
   "execution_count": 9,
   "id": "4fed75f0",
   "metadata": {
    "id": "4fed75f0",
    "outputId": "599e332c-90f7-4b82-fcc3-062fbe3ce9a2"
   },
   "outputs": [
    {
     "data": {
      "text/plain": [
       "array([[100,  50, 100],\n",
       "       [ 70,  70,  70],\n",
       "       [ 40,  80,  40],\n",
       "       [ 50,  55,  80]])"
      ]
     },
     "execution_count": 9,
     "metadata": {},
     "output_type": "execute_result"
    }
   ],
   "source": [
    "input_array = np.array([[100,50,100],\n",
    "                       [70,70,70],\n",
    "                       [40,80,40],\n",
    "                       [50,55,80]])\n",
    "input_array"
   ]
  },
  {
   "cell_type": "markdown",
   "id": "5c41c5f8",
   "metadata": {
    "id": "5c41c5f8"
   },
   "source": [
    "Jika inputnya seperti array di atas, berarti kita memiliki `4` siswa . Setiap siswa memiliki `3` nilai. Kemudian, ketika fungsi `grade(input_array)` dijalankan, output Anda akan seperti ini:"
   ]
  },
  {
   "cell_type": "markdown",
   "id": "1519c86f",
   "metadata": {
    "id": "1519c86f"
   },
   "source": [
    "`[[P,F,P], [P,P,P], [F,P,F], [F,F,P]]`"
   ]
  },
  {
   "cell_type": "markdown",
   "id": "df6fe61b",
   "metadata": {},
   "source": [
    "## Answer"
   ]
  },
  {
   "cell_type": "code",
   "execution_count": 10,
   "id": "f98be5ff",
   "metadata": {
    "id": "f98be5ff"
   },
   "outputs": [],
   "source": [
    "def grade(input_array):\n",
    "    a = np.array(input_array)\n",
    "    return np.where(a >= 70,'P','F')"
   ]
  },
  {
   "cell_type": "code",
   "execution_count": 11,
   "id": "6271eaf5",
   "metadata": {
    "id": "6271eaf5"
   },
   "outputs": [
    {
     "data": {
      "text/plain": [
       "array([['P', 'F', 'P'],\n",
       "       ['P', 'P', 'P'],\n",
       "       ['F', 'P', 'F'],\n",
       "       ['F', 'F', 'P']], dtype='<U1')"
      ]
     },
     "execution_count": 11,
     "metadata": {},
     "output_type": "execute_result"
    }
   ],
   "source": [
    "grade([[100,50,100],\n",
    "       [70,70,70],\n",
    "       [40,80,40],\n",
    "       [50,55,80]])"
   ]
  },
  {
   "cell_type": "markdown",
   "id": "4062c7fe",
   "metadata": {
    "id": "4062c7fe"
   },
   "source": [
    "### Numpy Question 3 "
   ]
  },
  {
   "cell_type": "markdown",
   "id": "2467cc66",
   "metadata": {
    "id": "2467cc66"
   },
   "source": [
    "Nama fungsi Anda adalah `one_hot`, dan input fungsi Anda adalah array numpy.\n",
    "\n",
    "Dalam tugas ini, Anda diminta untuk mengonversi array integer menjadi one hot encoding. \n",
    "\n",
    "Ini berguna dalam machine learning dan bahkan kasus deep learning, di mana kita ingin melakukan eature engineering, represent categorical classes, dll. \n",
    "\n",
    "Resource on one-hot-encoding: https://machinelearningmastery.com/why-one-hot-encode-data-in-machine-learning/"
   ]
  },
  {
   "cell_type": "markdown",
   "id": "68c5968a",
   "metadata": {
    "id": "68c5968a"
   },
   "source": [
    "#### Example 1:\n",
    "\n",
    "Jika array inputnya adalah `[2,3,1,2]` maka versi one hot encodingnya adalah:\n",
    "\n",
    "`[[0,1,0], [0,0,1], [1,0,0], [0,1,0]]`\n",
    "\n",
    "Penjelasan: ada 3 bilangan bulat unik: 1, 2, dan 3. Jika kita ingin merepresentasikannya dengan one-hot encoding, kita harus merepresentasikannya dalam `0 dan 1`. \n",
    "\n",
    "Karena ada 3 bilangan bulat unik, kita merepresentasikannya dalam 3 urutan `0 dan 1`.\n",
    "\n",
    "1 direpresentasikan sebagai `[1, 0, 0]`\n",
    "2 direpresentasikan sebagai `[0, 1, 0]`\n",
    "3 direpresentasikan sebagai `[0, 0, 1]`\n",
    "\n",
    "Jadi, jika `input_array` adalah `np.array([2,3,1,2])`\n",
    "Dan array diteruskan ke fungsi Anda ..\n",
    "\n",
    "`one_hot(input_array)` sama dengan `array([[0,1,0], [0,0,1], [1,0,0], [0,1,0]])`\n",
    "\n",
    "#### Example 2\n",
    "\n",
    "Jika larik inputnya adalah `[4,2,1,3]` maka versi one hot encodingnya adalah: \n",
    "\n",
    "`[[0,0,0,1], [0,1,0,0], [1,0,0,0], [0,0,1,0]]`\n",
    "\n",
    "Penjelasan: ada 4 integer unik: 1, 2, 3, dan 4. Jika kita ingin merepresentasikannya dengan one-hot encoding, kita harus merepresentasikannya dalam `0 dan 1`. \n",
    "\n",
    "Karena ada 4 integer unik, kita merepresentasikannya dalam 4 urutan `0 dan 1`. \n",
    "\n",
    "1 direpresentasikan sebagai `[1, 0, 0, 0]`\n",
    "2 direpresentasikan sebagai `[0, 1, 0, 0]`\n",
    "3 direpresentasikan sebagai `[0, 0, 1, 0]`\n",
    "4 direpresentasikan sebagai `[0, 0, 0, 1]`\n",
    "\n",
    "Jadi, jika `input_array` adalah `np.array([4,2,1,3])`\n",
    "Dan array diteruskan ke fungsi Anda ..\n",
    "\n",
    "`one_hot(input_array)` sama dengan `array([[0,0,0,1], [0,1,0,0], [1,0,0,0], [0,0,1,0 ]])`\n",
    "\n",
    "\n",
    "#### Constrains:\n",
    "\n",
    "- Bilangan bulat dalam array input akan dimulai dengan 1. \n",
    "- Bilangan bulat dalam array input tidak akan bernilai nol atau negatif.\n",
    "- Bilangan bulat tidak akan dilewati (misalnya, array input tidak mungkin memiliki [4,1,2] karena 3 tidak ada).\n",
    "\n"
   ]
  },
  {
   "cell_type": "code",
   "execution_count": 12,
   "id": "bfc0fc16",
   "metadata": {
    "id": "bfc0fc16"
   },
   "outputs": [],
   "source": [
    "def one_hot(input_array):\n",
    "    a = np.array(input_array)\n",
    "    b = np.zeros((a.size, a.max()+1))\n",
    "    b[np.arange(a.size), a] = 1\n",
    "    return b\n",
    "    "
   ]
  },
  {
   "cell_type": "code",
   "execution_count": 13,
   "id": "2b9f24ec",
   "metadata": {
    "id": "2b9f24ec"
   },
   "outputs": [
    {
     "data": {
      "text/plain": [
       "array([[0., 0., 1., 0.],\n",
       "       [0., 0., 0., 1.],\n",
       "       [0., 1., 0., 0.],\n",
       "       [0., 0., 1., 0.]])"
      ]
     },
     "execution_count": 13,
     "metadata": {},
     "output_type": "execute_result"
    }
   ],
   "source": [
    "one_hot([2,3,1,2])"
   ]
  },
  {
   "cell_type": "code",
   "execution_count": 14,
   "id": "0f654980",
   "metadata": {
    "id": "0f654980"
   },
   "outputs": [
    {
     "data": {
      "text/plain": [
       "array([[0., 0., 0., 0., 1.],\n",
       "       [0., 0., 1., 0., 0.],\n",
       "       [0., 1., 0., 0., 0.],\n",
       "       [0., 0., 0., 1., 0.]])"
      ]
     },
     "execution_count": 14,
     "metadata": {},
     "output_type": "execute_result"
    }
   ],
   "source": [
    "one_hot([4,2,1,3])"
   ]
  },
  {
   "cell_type": "code",
   "execution_count": null,
   "id": "a207f802",
   "metadata": {},
   "outputs": [],
   "source": []
  }
 ],
 "metadata": {
  "colab": {
   "provenance": []
  },
  "kernelspec": {
   "display_name": "Python 3 (ipykernel)",
   "language": "python",
   "name": "python3"
  },
  "language_info": {
   "codemirror_mode": {
    "name": "ipython",
    "version": 3
   },
   "file_extension": ".py",
   "mimetype": "text/x-python",
   "name": "python",
   "nbconvert_exporter": "python",
   "pygments_lexer": "ipython3",
   "version": "3.9.7"
  }
 },
 "nbformat": 4,
 "nbformat_minor": 5
}
