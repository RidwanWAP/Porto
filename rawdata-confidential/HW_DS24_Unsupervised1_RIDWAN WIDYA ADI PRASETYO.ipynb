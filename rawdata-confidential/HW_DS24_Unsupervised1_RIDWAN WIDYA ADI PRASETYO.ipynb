{
 "cells": [
  {
   "cell_type": "markdown",
   "id": "38b233eb",
   "metadata": {},
   "source": [
    "## Import Package"
   ]
  },
  {
   "cell_type": "code",
   "execution_count": 1,
   "id": "a9cd28bf",
   "metadata": {},
   "outputs": [],
   "source": [
    "import warnings\n",
    "warnings.filterwarnings('ignore')\n",
    "\n",
    "%matplotlib inline\n",
    "\n",
    "import numpy as np\n",
    "import pandas as pd\n",
    "import seaborn as sns\n",
    "import matplotlib.pyplot as plt\n",
    "\n",
    "from sklearn.metrics import accuracy_score\n",
    "from sklearn.tree import DecisionTreeClassifier\n",
    "from sklearn.preprocessing import StandardScaler\n",
    "from sklearn.metrics import classification_report\n",
    "from sklearn.model_selection import train_test_split\n",
    "from sklearn.metrics import classification_report, confusion_matrix\n",
    "from sklearn.linear_model import LinearRegression\n",
    "from sklearn.ensemble import RandomForestClassifier\n",
    "from sklearn.decomposition import PCA, TruncatedSVD\n",
    "from sklearn.tree import DecisionTreeRegressor\n",
    "from sklearn.datasets import make_regression\n",
    "from sklearn.metrics import mean_squared_error\n",
    "\n",
    "sns.set(rc={'figure.figsize':(20.7,8.27)})\n",
    "sns.set_style(\"whitegrid\")\n",
    "sns.color_palette(\"dark\")\n",
    "plt.style.use(\"fivethirtyeight\")"
   ]
  },
  {
   "cell_type": "markdown",
   "id": "4de7df6b",
   "metadata": {},
   "source": [
    "## Load Dataset"
   ]
  },
  {
   "cell_type": "code",
   "execution_count": 2,
   "id": "d1afb4f7",
   "metadata": {},
   "outputs": [
    {
     "data": {
      "text/html": [
       "<div>\n",
       "<style scoped>\n",
       "    .dataframe tbody tr th:only-of-type {\n",
       "        vertical-align: middle;\n",
       "    }\n",
       "\n",
       "    .dataframe tbody tr th {\n",
       "        vertical-align: top;\n",
       "    }\n",
       "\n",
       "    .dataframe thead th {\n",
       "        text-align: right;\n",
       "    }\n",
       "</style>\n",
       "<table border=\"1\" class=\"dataframe\">\n",
       "  <thead>\n",
       "    <tr style=\"text-align: right;\">\n",
       "      <th></th>\n",
       "      <th>CRIM</th>\n",
       "      <th>ZN</th>\n",
       "      <th>INDUS</th>\n",
       "      <th>CHAS</th>\n",
       "      <th>NOX</th>\n",
       "      <th>RM</th>\n",
       "      <th>AGE</th>\n",
       "      <th>DIS</th>\n",
       "      <th>RAD</th>\n",
       "      <th>TAX</th>\n",
       "      <th>PTRATIO</th>\n",
       "      <th>B</th>\n",
       "      <th>LSTAT</th>\n",
       "      <th>MEDV</th>\n",
       "    </tr>\n",
       "  </thead>\n",
       "  <tbody>\n",
       "    <tr>\n",
       "      <th>0</th>\n",
       "      <td>0.00632</td>\n",
       "      <td>18.0</td>\n",
       "      <td>2.31</td>\n",
       "      <td>0.0</td>\n",
       "      <td>0.538</td>\n",
       "      <td>6.575</td>\n",
       "      <td>65.2</td>\n",
       "      <td>4.0900</td>\n",
       "      <td>1.0</td>\n",
       "      <td>296.0</td>\n",
       "      <td>15.3</td>\n",
       "      <td>396.90</td>\n",
       "      <td>4.98</td>\n",
       "      <td>24.0</td>\n",
       "    </tr>\n",
       "    <tr>\n",
       "      <th>1</th>\n",
       "      <td>0.02731</td>\n",
       "      <td>0.0</td>\n",
       "      <td>7.07</td>\n",
       "      <td>0.0</td>\n",
       "      <td>0.469</td>\n",
       "      <td>6.421</td>\n",
       "      <td>78.9</td>\n",
       "      <td>4.9671</td>\n",
       "      <td>2.0</td>\n",
       "      <td>242.0</td>\n",
       "      <td>17.8</td>\n",
       "      <td>396.90</td>\n",
       "      <td>9.14</td>\n",
       "      <td>21.6</td>\n",
       "    </tr>\n",
       "    <tr>\n",
       "      <th>2</th>\n",
       "      <td>0.02729</td>\n",
       "      <td>0.0</td>\n",
       "      <td>7.07</td>\n",
       "      <td>0.0</td>\n",
       "      <td>0.469</td>\n",
       "      <td>7.185</td>\n",
       "      <td>61.1</td>\n",
       "      <td>4.9671</td>\n",
       "      <td>2.0</td>\n",
       "      <td>242.0</td>\n",
       "      <td>17.8</td>\n",
       "      <td>392.83</td>\n",
       "      <td>4.03</td>\n",
       "      <td>34.7</td>\n",
       "    </tr>\n",
       "    <tr>\n",
       "      <th>3</th>\n",
       "      <td>0.03237</td>\n",
       "      <td>0.0</td>\n",
       "      <td>2.18</td>\n",
       "      <td>0.0</td>\n",
       "      <td>0.458</td>\n",
       "      <td>6.998</td>\n",
       "      <td>45.8</td>\n",
       "      <td>6.0622</td>\n",
       "      <td>3.0</td>\n",
       "      <td>222.0</td>\n",
       "      <td>18.7</td>\n",
       "      <td>394.63</td>\n",
       "      <td>2.94</td>\n",
       "      <td>33.4</td>\n",
       "    </tr>\n",
       "    <tr>\n",
       "      <th>4</th>\n",
       "      <td>0.06905</td>\n",
       "      <td>0.0</td>\n",
       "      <td>2.18</td>\n",
       "      <td>0.0</td>\n",
       "      <td>0.458</td>\n",
       "      <td>7.147</td>\n",
       "      <td>54.2</td>\n",
       "      <td>6.0622</td>\n",
       "      <td>3.0</td>\n",
       "      <td>222.0</td>\n",
       "      <td>18.7</td>\n",
       "      <td>396.90</td>\n",
       "      <td>5.33</td>\n",
       "      <td>36.2</td>\n",
       "    </tr>\n",
       "  </tbody>\n",
       "</table>\n",
       "</div>"
      ],
      "text/plain": [
       "      CRIM    ZN  INDUS  CHAS    NOX     RM   AGE     DIS  RAD    TAX  \\\n",
       "0  0.00632  18.0   2.31   0.0  0.538  6.575  65.2  4.0900  1.0  296.0   \n",
       "1  0.02731   0.0   7.07   0.0  0.469  6.421  78.9  4.9671  2.0  242.0   \n",
       "2  0.02729   0.0   7.07   0.0  0.469  7.185  61.1  4.9671  2.0  242.0   \n",
       "3  0.03237   0.0   2.18   0.0  0.458  6.998  45.8  6.0622  3.0  222.0   \n",
       "4  0.06905   0.0   2.18   0.0  0.458  7.147  54.2  6.0622  3.0  222.0   \n",
       "\n",
       "   PTRATIO       B  LSTAT  MEDV  \n",
       "0     15.3  396.90   4.98  24.0  \n",
       "1     17.8  396.90   9.14  21.6  \n",
       "2     17.8  392.83   4.03  34.7  \n",
       "3     18.7  394.63   2.94  33.4  \n",
       "4     18.7  396.90   5.33  36.2  "
      ]
     },
     "execution_count": 2,
     "metadata": {},
     "output_type": "execute_result"
    }
   ],
   "source": [
    "from sklearn.datasets import load_boston\n",
    "boston_dataset = load_boston()\n",
    "boston = pd.DataFrame(boston_dataset.data, columns=boston_dataset.feature_names)\n",
    "boston['MEDV'] = boston_dataset.target\n",
    "boston.head()"
   ]
  },
  {
   "cell_type": "markdown",
   "id": "f4ce0f96",
   "metadata": {},
   "source": [
    "## Data Preprocessing (20 point)"
   ]
  },
  {
   "cell_type": "markdown",
   "id": "ae8297e9",
   "metadata": {},
   "source": [
    "1. lakukan data preprocessing termasuk kecuali melakukan reduksi dimensi"
   ]
  },
  {
   "cell_type": "code",
   "execution_count": 3,
   "id": "85d8b71f",
   "metadata": {},
   "outputs": [
    {
     "data": {
      "text/plain": [
       "(506, 14)"
      ]
     },
     "execution_count": 3,
     "metadata": {},
     "output_type": "execute_result"
    }
   ],
   "source": [
    "boston.shape"
   ]
  },
  {
   "cell_type": "code",
   "execution_count": 4,
   "id": "7242048a",
   "metadata": {},
   "outputs": [
    {
     "data": {
      "text/html": [
       "<div>\n",
       "<style scoped>\n",
       "    .dataframe tbody tr th:only-of-type {\n",
       "        vertical-align: middle;\n",
       "    }\n",
       "\n",
       "    .dataframe tbody tr th {\n",
       "        vertical-align: top;\n",
       "    }\n",
       "\n",
       "    .dataframe thead th {\n",
       "        text-align: right;\n",
       "    }\n",
       "</style>\n",
       "<table border=\"1\" class=\"dataframe\">\n",
       "  <thead>\n",
       "    <tr style=\"text-align: right;\">\n",
       "      <th></th>\n",
       "      <th>CRIM</th>\n",
       "      <th>ZN</th>\n",
       "      <th>INDUS</th>\n",
       "      <th>CHAS</th>\n",
       "      <th>NOX</th>\n",
       "      <th>RM</th>\n",
       "      <th>AGE</th>\n",
       "      <th>DIS</th>\n",
       "      <th>RAD</th>\n",
       "      <th>TAX</th>\n",
       "      <th>PTRATIO</th>\n",
       "      <th>B</th>\n",
       "      <th>LSTAT</th>\n",
       "      <th>MEDV</th>\n",
       "    </tr>\n",
       "  </thead>\n",
       "  <tbody>\n",
       "    <tr>\n",
       "      <th>count</th>\n",
       "      <td>506.000000</td>\n",
       "      <td>506.000000</td>\n",
       "      <td>506.000000</td>\n",
       "      <td>506.000000</td>\n",
       "      <td>506.000000</td>\n",
       "      <td>506.000000</td>\n",
       "      <td>506.000000</td>\n",
       "      <td>506.000000</td>\n",
       "      <td>506.000000</td>\n",
       "      <td>506.000000</td>\n",
       "      <td>506.000000</td>\n",
       "      <td>506.000000</td>\n",
       "      <td>506.000000</td>\n",
       "      <td>506.000000</td>\n",
       "    </tr>\n",
       "    <tr>\n",
       "      <th>mean</th>\n",
       "      <td>3.613524</td>\n",
       "      <td>11.363636</td>\n",
       "      <td>11.136779</td>\n",
       "      <td>0.069170</td>\n",
       "      <td>0.554695</td>\n",
       "      <td>6.284634</td>\n",
       "      <td>68.574901</td>\n",
       "      <td>3.795043</td>\n",
       "      <td>9.549407</td>\n",
       "      <td>408.237154</td>\n",
       "      <td>18.455534</td>\n",
       "      <td>356.674032</td>\n",
       "      <td>12.653063</td>\n",
       "      <td>22.532806</td>\n",
       "    </tr>\n",
       "    <tr>\n",
       "      <th>std</th>\n",
       "      <td>8.601545</td>\n",
       "      <td>23.322453</td>\n",
       "      <td>6.860353</td>\n",
       "      <td>0.253994</td>\n",
       "      <td>0.115878</td>\n",
       "      <td>0.702617</td>\n",
       "      <td>28.148861</td>\n",
       "      <td>2.105710</td>\n",
       "      <td>8.707259</td>\n",
       "      <td>168.537116</td>\n",
       "      <td>2.164946</td>\n",
       "      <td>91.294864</td>\n",
       "      <td>7.141062</td>\n",
       "      <td>9.197104</td>\n",
       "    </tr>\n",
       "    <tr>\n",
       "      <th>min</th>\n",
       "      <td>0.006320</td>\n",
       "      <td>0.000000</td>\n",
       "      <td>0.460000</td>\n",
       "      <td>0.000000</td>\n",
       "      <td>0.385000</td>\n",
       "      <td>3.561000</td>\n",
       "      <td>2.900000</td>\n",
       "      <td>1.129600</td>\n",
       "      <td>1.000000</td>\n",
       "      <td>187.000000</td>\n",
       "      <td>12.600000</td>\n",
       "      <td>0.320000</td>\n",
       "      <td>1.730000</td>\n",
       "      <td>5.000000</td>\n",
       "    </tr>\n",
       "    <tr>\n",
       "      <th>25%</th>\n",
       "      <td>0.082045</td>\n",
       "      <td>0.000000</td>\n",
       "      <td>5.190000</td>\n",
       "      <td>0.000000</td>\n",
       "      <td>0.449000</td>\n",
       "      <td>5.885500</td>\n",
       "      <td>45.025000</td>\n",
       "      <td>2.100175</td>\n",
       "      <td>4.000000</td>\n",
       "      <td>279.000000</td>\n",
       "      <td>17.400000</td>\n",
       "      <td>375.377500</td>\n",
       "      <td>6.950000</td>\n",
       "      <td>17.025000</td>\n",
       "    </tr>\n",
       "    <tr>\n",
       "      <th>50%</th>\n",
       "      <td>0.256510</td>\n",
       "      <td>0.000000</td>\n",
       "      <td>9.690000</td>\n",
       "      <td>0.000000</td>\n",
       "      <td>0.538000</td>\n",
       "      <td>6.208500</td>\n",
       "      <td>77.500000</td>\n",
       "      <td>3.207450</td>\n",
       "      <td>5.000000</td>\n",
       "      <td>330.000000</td>\n",
       "      <td>19.050000</td>\n",
       "      <td>391.440000</td>\n",
       "      <td>11.360000</td>\n",
       "      <td>21.200000</td>\n",
       "    </tr>\n",
       "    <tr>\n",
       "      <th>75%</th>\n",
       "      <td>3.677083</td>\n",
       "      <td>12.500000</td>\n",
       "      <td>18.100000</td>\n",
       "      <td>0.000000</td>\n",
       "      <td>0.624000</td>\n",
       "      <td>6.623500</td>\n",
       "      <td>94.075000</td>\n",
       "      <td>5.188425</td>\n",
       "      <td>24.000000</td>\n",
       "      <td>666.000000</td>\n",
       "      <td>20.200000</td>\n",
       "      <td>396.225000</td>\n",
       "      <td>16.955000</td>\n",
       "      <td>25.000000</td>\n",
       "    </tr>\n",
       "    <tr>\n",
       "      <th>max</th>\n",
       "      <td>88.976200</td>\n",
       "      <td>100.000000</td>\n",
       "      <td>27.740000</td>\n",
       "      <td>1.000000</td>\n",
       "      <td>0.871000</td>\n",
       "      <td>8.780000</td>\n",
       "      <td>100.000000</td>\n",
       "      <td>12.126500</td>\n",
       "      <td>24.000000</td>\n",
       "      <td>711.000000</td>\n",
       "      <td>22.000000</td>\n",
       "      <td>396.900000</td>\n",
       "      <td>37.970000</td>\n",
       "      <td>50.000000</td>\n",
       "    </tr>\n",
       "  </tbody>\n",
       "</table>\n",
       "</div>"
      ],
      "text/plain": [
       "             CRIM          ZN       INDUS        CHAS         NOX          RM  \\\n",
       "count  506.000000  506.000000  506.000000  506.000000  506.000000  506.000000   \n",
       "mean     3.613524   11.363636   11.136779    0.069170    0.554695    6.284634   \n",
       "std      8.601545   23.322453    6.860353    0.253994    0.115878    0.702617   \n",
       "min      0.006320    0.000000    0.460000    0.000000    0.385000    3.561000   \n",
       "25%      0.082045    0.000000    5.190000    0.000000    0.449000    5.885500   \n",
       "50%      0.256510    0.000000    9.690000    0.000000    0.538000    6.208500   \n",
       "75%      3.677083   12.500000   18.100000    0.000000    0.624000    6.623500   \n",
       "max     88.976200  100.000000   27.740000    1.000000    0.871000    8.780000   \n",
       "\n",
       "              AGE         DIS         RAD         TAX     PTRATIO           B  \\\n",
       "count  506.000000  506.000000  506.000000  506.000000  506.000000  506.000000   \n",
       "mean    68.574901    3.795043    9.549407  408.237154   18.455534  356.674032   \n",
       "std     28.148861    2.105710    8.707259  168.537116    2.164946   91.294864   \n",
       "min      2.900000    1.129600    1.000000  187.000000   12.600000    0.320000   \n",
       "25%     45.025000    2.100175    4.000000  279.000000   17.400000  375.377500   \n",
       "50%     77.500000    3.207450    5.000000  330.000000   19.050000  391.440000   \n",
       "75%     94.075000    5.188425   24.000000  666.000000   20.200000  396.225000   \n",
       "max    100.000000   12.126500   24.000000  711.000000   22.000000  396.900000   \n",
       "\n",
       "            LSTAT        MEDV  \n",
       "count  506.000000  506.000000  \n",
       "mean    12.653063   22.532806  \n",
       "std      7.141062    9.197104  \n",
       "min      1.730000    5.000000  \n",
       "25%      6.950000   17.025000  \n",
       "50%     11.360000   21.200000  \n",
       "75%     16.955000   25.000000  \n",
       "max     37.970000   50.000000  "
      ]
     },
     "execution_count": 4,
     "metadata": {},
     "output_type": "execute_result"
    }
   ],
   "source": [
    "boston.describe()"
   ]
  },
  {
   "cell_type": "code",
   "execution_count": 5,
   "id": "61d2eaa3",
   "metadata": {},
   "outputs": [
    {
     "data": {
      "text/plain": [
       "CRIM       0\n",
       "ZN         0\n",
       "INDUS      0\n",
       "CHAS       0\n",
       "NOX        0\n",
       "RM         0\n",
       "AGE        0\n",
       "DIS        0\n",
       "RAD        0\n",
       "TAX        0\n",
       "PTRATIO    0\n",
       "B          0\n",
       "LSTAT      0\n",
       "MEDV       0\n",
       "dtype: int64"
      ]
     },
     "execution_count": 5,
     "metadata": {},
     "output_type": "execute_result"
    }
   ],
   "source": [
    "boston.isna().sum()"
   ]
  },
  {
   "cell_type": "code",
   "execution_count": 6,
   "id": "045226aa",
   "metadata": {},
   "outputs": [
    {
     "data": {
      "text/html": [
       "<div>\n",
       "<style scoped>\n",
       "    .dataframe tbody tr th:only-of-type {\n",
       "        vertical-align: middle;\n",
       "    }\n",
       "\n",
       "    .dataframe tbody tr th {\n",
       "        vertical-align: top;\n",
       "    }\n",
       "\n",
       "    .dataframe thead th {\n",
       "        text-align: right;\n",
       "    }\n",
       "</style>\n",
       "<table border=\"1\" class=\"dataframe\">\n",
       "  <thead>\n",
       "    <tr style=\"text-align: right;\">\n",
       "      <th></th>\n",
       "      <th>CRIM</th>\n",
       "      <th>ZN</th>\n",
       "      <th>INDUS</th>\n",
       "      <th>CHAS</th>\n",
       "      <th>NOX</th>\n",
       "      <th>RM</th>\n",
       "      <th>AGE</th>\n",
       "      <th>DIS</th>\n",
       "      <th>RAD</th>\n",
       "      <th>TAX</th>\n",
       "      <th>PTRATIO</th>\n",
       "      <th>B</th>\n",
       "      <th>LSTAT</th>\n",
       "      <th>MEDV</th>\n",
       "    </tr>\n",
       "  </thead>\n",
       "  <tbody>\n",
       "    <tr>\n",
       "      <th>0</th>\n",
       "      <td>0.00632</td>\n",
       "      <td>18.0</td>\n",
       "      <td>2.31</td>\n",
       "      <td>0.0</td>\n",
       "      <td>0.538</td>\n",
       "      <td>6.575</td>\n",
       "      <td>65.2</td>\n",
       "      <td>4.0900</td>\n",
       "      <td>1.0</td>\n",
       "      <td>296.0</td>\n",
       "      <td>15.3</td>\n",
       "      <td>396.90</td>\n",
       "      <td>4.98</td>\n",
       "      <td>24.0</td>\n",
       "    </tr>\n",
       "    <tr>\n",
       "      <th>1</th>\n",
       "      <td>0.02731</td>\n",
       "      <td>0.0</td>\n",
       "      <td>7.07</td>\n",
       "      <td>0.0</td>\n",
       "      <td>0.469</td>\n",
       "      <td>6.421</td>\n",
       "      <td>78.9</td>\n",
       "      <td>4.9671</td>\n",
       "      <td>2.0</td>\n",
       "      <td>242.0</td>\n",
       "      <td>17.8</td>\n",
       "      <td>396.90</td>\n",
       "      <td>9.14</td>\n",
       "      <td>21.6</td>\n",
       "    </tr>\n",
       "    <tr>\n",
       "      <th>2</th>\n",
       "      <td>0.02729</td>\n",
       "      <td>0.0</td>\n",
       "      <td>7.07</td>\n",
       "      <td>0.0</td>\n",
       "      <td>0.469</td>\n",
       "      <td>7.185</td>\n",
       "      <td>61.1</td>\n",
       "      <td>4.9671</td>\n",
       "      <td>2.0</td>\n",
       "      <td>242.0</td>\n",
       "      <td>17.8</td>\n",
       "      <td>392.83</td>\n",
       "      <td>4.03</td>\n",
       "      <td>34.7</td>\n",
       "    </tr>\n",
       "    <tr>\n",
       "      <th>3</th>\n",
       "      <td>0.03237</td>\n",
       "      <td>0.0</td>\n",
       "      <td>2.18</td>\n",
       "      <td>0.0</td>\n",
       "      <td>0.458</td>\n",
       "      <td>6.998</td>\n",
       "      <td>45.8</td>\n",
       "      <td>6.0622</td>\n",
       "      <td>3.0</td>\n",
       "      <td>222.0</td>\n",
       "      <td>18.7</td>\n",
       "      <td>394.63</td>\n",
       "      <td>2.94</td>\n",
       "      <td>33.4</td>\n",
       "    </tr>\n",
       "    <tr>\n",
       "      <th>4</th>\n",
       "      <td>0.06905</td>\n",
       "      <td>0.0</td>\n",
       "      <td>2.18</td>\n",
       "      <td>0.0</td>\n",
       "      <td>0.458</td>\n",
       "      <td>7.147</td>\n",
       "      <td>54.2</td>\n",
       "      <td>6.0622</td>\n",
       "      <td>3.0</td>\n",
       "      <td>222.0</td>\n",
       "      <td>18.7</td>\n",
       "      <td>396.90</td>\n",
       "      <td>5.33</td>\n",
       "      <td>36.2</td>\n",
       "    </tr>\n",
       "  </tbody>\n",
       "</table>\n",
       "</div>"
      ],
      "text/plain": [
       "      CRIM    ZN  INDUS  CHAS    NOX     RM   AGE     DIS  RAD    TAX  \\\n",
       "0  0.00632  18.0   2.31   0.0  0.538  6.575  65.2  4.0900  1.0  296.0   \n",
       "1  0.02731   0.0   7.07   0.0  0.469  6.421  78.9  4.9671  2.0  242.0   \n",
       "2  0.02729   0.0   7.07   0.0  0.469  7.185  61.1  4.9671  2.0  242.0   \n",
       "3  0.03237   0.0   2.18   0.0  0.458  6.998  45.8  6.0622  3.0  222.0   \n",
       "4  0.06905   0.0   2.18   0.0  0.458  7.147  54.2  6.0622  3.0  222.0   \n",
       "\n",
       "   PTRATIO       B  LSTAT  MEDV  \n",
       "0     15.3  396.90   4.98  24.0  \n",
       "1     17.8  396.90   9.14  21.6  \n",
       "2     17.8  392.83   4.03  34.7  \n",
       "3     18.7  394.63   2.94  33.4  \n",
       "4     18.7  396.90   5.33  36.2  "
      ]
     },
     "execution_count": 6,
     "metadata": {},
     "output_type": "execute_result"
    }
   ],
   "source": [
    "from sklearn.datasets import load_boston\n",
    "boston_dataset = load_boston()\n",
    "boston = pd.DataFrame(boston_dataset.data, columns=boston_dataset.feature_names)\n",
    "boston['MEDV'] = boston_dataset.target\n",
    "boston.head()"
   ]
  },
  {
   "cell_type": "code",
   "execution_count": 7,
   "id": "eef4b930",
   "metadata": {},
   "outputs": [],
   "source": [
    "unscaled_X = pd.DataFrame(boston_dataset.data, columns = boston_dataset.feature_names)\n",
    "y = pd.DataFrame(boston_dataset.target)"
   ]
  },
  {
   "cell_type": "code",
   "execution_count": 8,
   "id": "1f518636",
   "metadata": {},
   "outputs": [
    {
     "data": {
      "text/html": [
       "<div>\n",
       "<style scoped>\n",
       "    .dataframe tbody tr th:only-of-type {\n",
       "        vertical-align: middle;\n",
       "    }\n",
       "\n",
       "    .dataframe tbody tr th {\n",
       "        vertical-align: top;\n",
       "    }\n",
       "\n",
       "    .dataframe thead th {\n",
       "        text-align: right;\n",
       "    }\n",
       "</style>\n",
       "<table border=\"1\" class=\"dataframe\">\n",
       "  <thead>\n",
       "    <tr style=\"text-align: right;\">\n",
       "      <th></th>\n",
       "      <th>CRIM</th>\n",
       "      <th>ZN</th>\n",
       "      <th>INDUS</th>\n",
       "      <th>CHAS</th>\n",
       "      <th>NOX</th>\n",
       "      <th>RM</th>\n",
       "      <th>AGE</th>\n",
       "      <th>DIS</th>\n",
       "      <th>RAD</th>\n",
       "      <th>TAX</th>\n",
       "      <th>PTRATIO</th>\n",
       "      <th>B</th>\n",
       "      <th>LSTAT</th>\n",
       "    </tr>\n",
       "  </thead>\n",
       "  <tbody>\n",
       "    <tr>\n",
       "      <th>0</th>\n",
       "      <td>-0.419782</td>\n",
       "      <td>0.284830</td>\n",
       "      <td>-1.287909</td>\n",
       "      <td>-0.272599</td>\n",
       "      <td>-0.144217</td>\n",
       "      <td>0.413672</td>\n",
       "      <td>-0.120013</td>\n",
       "      <td>0.140214</td>\n",
       "      <td>-0.982843</td>\n",
       "      <td>-0.666608</td>\n",
       "      <td>-1.459000</td>\n",
       "      <td>0.441052</td>\n",
       "      <td>-1.075562</td>\n",
       "    </tr>\n",
       "    <tr>\n",
       "      <th>1</th>\n",
       "      <td>-0.417339</td>\n",
       "      <td>-0.487722</td>\n",
       "      <td>-0.593381</td>\n",
       "      <td>-0.272599</td>\n",
       "      <td>-0.740262</td>\n",
       "      <td>0.194274</td>\n",
       "      <td>0.367166</td>\n",
       "      <td>0.557160</td>\n",
       "      <td>-0.867883</td>\n",
       "      <td>-0.987329</td>\n",
       "      <td>-0.303094</td>\n",
       "      <td>0.441052</td>\n",
       "      <td>-0.492439</td>\n",
       "    </tr>\n",
       "    <tr>\n",
       "      <th>2</th>\n",
       "      <td>-0.417342</td>\n",
       "      <td>-0.487722</td>\n",
       "      <td>-0.593381</td>\n",
       "      <td>-0.272599</td>\n",
       "      <td>-0.740262</td>\n",
       "      <td>1.282714</td>\n",
       "      <td>-0.265812</td>\n",
       "      <td>0.557160</td>\n",
       "      <td>-0.867883</td>\n",
       "      <td>-0.987329</td>\n",
       "      <td>-0.303094</td>\n",
       "      <td>0.396427</td>\n",
       "      <td>-1.208727</td>\n",
       "    </tr>\n",
       "  </tbody>\n",
       "</table>\n",
       "</div>"
      ],
      "text/plain": [
       "       CRIM        ZN     INDUS      CHAS       NOX        RM       AGE  \\\n",
       "0 -0.419782  0.284830 -1.287909 -0.272599 -0.144217  0.413672 -0.120013   \n",
       "1 -0.417339 -0.487722 -0.593381 -0.272599 -0.740262  0.194274  0.367166   \n",
       "2 -0.417342 -0.487722 -0.593381 -0.272599 -0.740262  1.282714 -0.265812   \n",
       "\n",
       "        DIS       RAD       TAX   PTRATIO         B     LSTAT  \n",
       "0  0.140214 -0.982843 -0.666608 -1.459000  0.441052 -1.075562  \n",
       "1  0.557160 -0.867883 -0.987329 -0.303094  0.441052 -0.492439  \n",
       "2  0.557160 -0.867883 -0.987329 -0.303094  0.396427 -1.208727  "
      ]
     },
     "execution_count": 8,
     "metadata": {},
     "output_type": "execute_result"
    }
   ],
   "source": [
    "scaler = StandardScaler()\n",
    "scaler.fit(unscaled_X)\n",
    "X = scaler.transform(unscaled_X)\n",
    "\n",
    "new_df = pd.DataFrame(data = X, columns = list(unscaled_X))\n",
    "new_df.head(3)"
   ]
  },
  {
   "cell_type": "code",
   "execution_count": 9,
   "id": "e64fc1b8",
   "metadata": {},
   "outputs": [
    {
     "data": {
      "text/plain": [
       "array([[ 1.0019802 , -0.20086619,  0.40738853, -0.05600226,  0.42180532,\n",
       "        -0.21968085,  0.35343273, -0.38042191,  0.62674377,  0.5839183 ,\n",
       "         0.29051973, -0.38582644,  0.4565237 ],\n",
       "       [-0.20086619,  1.0019802 , -0.53488527, -0.04278127, -0.51762669,\n",
       "         0.31260839, -0.57066514,  0.66572388, -0.31256554, -0.31518622,\n",
       "        -0.39245415,  0.17586788, -0.41381239],\n",
       "       [ 0.40738853, -0.53488527,  1.0019802 ,  0.06306266,  0.76516363,\n",
       "        -0.39245145,  0.6460553 , -0.70942902,  0.59630775,  0.72218743,\n",
       "         0.38400646, -0.35768342,  0.60499536],\n",
       "       [-0.05600226, -0.04278127,  0.06306266,  1.0019802 ,  0.09138341,\n",
       "         0.09143192,  0.0866891 , -0.09937217, -0.00738283, -0.03565699,\n",
       "        -0.1217558 ,  0.0488851 , -0.05403609],\n",
       "       [ 0.42180532, -0.51762669,  0.76516363,  0.09138341,  1.0019802 ,\n",
       "        -0.30278658,  0.73291856, -0.77075334,  0.61265134,  0.66934602,\n",
       "         0.1893068 , -0.38080321,  0.59204898],\n",
       "       [-0.21968085,  0.31260839, -0.39245145,  0.09143192, -0.30278658,\n",
       "         1.0019802 , -0.2407407 ,  0.20565264, -0.21026221, -0.29262615,\n",
       "        -0.35620546,  0.12832224, -0.61502373],\n",
       "       [ 0.35343273, -0.57066514,  0.6460553 ,  0.0866891 ,  0.73291856,\n",
       "        -0.2407407 ,  1.0019802 , -0.74936149,  0.45692547,  0.50745848,\n",
       "         0.26203286, -0.27407563,  0.60353128],\n",
       "       [-0.38042191,  0.66572388, -0.70942902, -0.09937217, -0.77075334,\n",
       "         0.20565264, -0.74936149,  1.0019802 , -0.49556731, -0.53548986,\n",
       "        -0.23293088,  0.29208892, -0.49797998],\n",
       "       [ 0.62674377, -0.31256554,  0.59630775, -0.00738283,  0.61265134,\n",
       "        -0.21026221,  0.45692547, -0.49556731,  1.0019802 ,  0.91203062,\n",
       "         0.46566146, -0.44529284,  0.48964401],\n",
       "       [ 0.5839183 , -0.31518622,  0.72218743, -0.03565699,  0.66934602,\n",
       "        -0.29262615,  0.50745848, -0.53548986,  0.91203062,  1.0019802 ,\n",
       "         0.46176562, -0.44268287,  0.54507063],\n",
       "       [ 0.29051973, -0.39245415,  0.38400646, -0.1217558 ,  0.1893068 ,\n",
       "        -0.35620546,  0.26203286, -0.23293088,  0.46566146,  0.46176562,\n",
       "         1.0019802 , -0.17773456,  0.374785  ],\n",
       "       [-0.38582644,  0.17586788, -0.35768342,  0.0488851 , -0.38080321,\n",
       "         0.12832224, -0.27407563,  0.29208892, -0.44529284, -0.44268287,\n",
       "        -0.17773456,  1.0019802 , -0.36681183],\n",
       "       [ 0.4565237 , -0.41381239,  0.60499536, -0.05403609,  0.59204898,\n",
       "        -0.61502373,  0.60353128, -0.49797998,  0.48964401,  0.54507063,\n",
       "         0.374785  , -0.36681183,  1.0019802 ]])"
      ]
     },
     "execution_count": 9,
     "metadata": {},
     "output_type": "execute_result"
    }
   ],
   "source": [
    "covariance_matrix = np.cov(X.T)\n",
    "covariance_matrix"
   ]
  },
  {
   "cell_type": "code",
   "execution_count": 10,
   "id": "309a3e66",
   "metadata": {
    "scrolled": true
   },
   "outputs": [
    {
     "name": "stdout",
     "output_type": "stream",
     "text": [
      "Eigenvector: \n",
      " [[-0.2509514   0.31525237 -0.24656649 -0.06177071  0.08215692  0.21965961\n",
      "  -0.77760721 -0.15335048 -0.0459523  -0.26039028  0.08676107  0.10964435\n",
      "  -0.01936913]\n",
      " [ 0.25631454  0.3233129  -0.29585782 -0.12871159  0.32061699  0.3233881\n",
      "   0.27499628  0.40268031  0.08091897 -0.35813749 -0.07142528 -0.26275629\n",
      "  -0.26752723]\n",
      " [-0.34667207 -0.11249291  0.01594592 -0.01714571 -0.00781119  0.0761379\n",
      "   0.33957645 -0.17393172  0.25107654 -0.64441615 -0.11319963  0.30316943\n",
      "   0.36353226]\n",
      " [-0.00504243 -0.45482914 -0.28978082 -0.81594136  0.08653094 -0.16749014\n",
      "  -0.07413621  0.02466215 -0.03592171  0.01372777 -0.00398268 -0.01392667\n",
      "   0.00618184]\n",
      " [-0.34285231 -0.21911553 -0.12096411  0.12822614  0.13685356  0.15298267\n",
      "   0.19963484 -0.08012056 -0.04363045  0.01852201  0.80432257 -0.11131888\n",
      "  -0.23105645]\n",
      " [ 0.18924257 -0.14933154 -0.59396117  0.28059184 -0.4234472  -0.05926707\n",
      "  -0.06393992  0.32675226 -0.0455671  -0.04789804  0.15287286 -0.05316154\n",
      "   0.43142019]\n",
      " [-0.3136706  -0.31197778  0.01767481  0.17520603  0.01669085  0.07170914\n",
      "  -0.11601071  0.60082292  0.03855068  0.06756218 -0.21193607  0.45915939\n",
      "  -0.36277896]\n",
      " [ 0.32154387  0.34907     0.04973627 -0.21543585  0.09859225 -0.02343872\n",
      "   0.10390044  0.12181198  0.01829854  0.15329124  0.39094113  0.69569257\n",
      "   0.17121314]\n",
      " [-0.31979277  0.27152094 -0.28725483 -0.13234996 -0.20413162  0.14319401\n",
      "   0.13794255 -0.08035831  0.63348972  0.47089067 -0.10702589 -0.03654388\n",
      "  -0.02190945]\n",
      " [-0.33846915  0.23945365 -0.22074447 -0.10333509 -0.13046057  0.19293428\n",
      "   0.31488683 -0.08277435 -0.72023345  0.17656339 -0.21519113  0.10483575\n",
      "   0.03516835]\n",
      " [-0.20494226  0.30589695  0.32344627 -0.28262198 -0.58400223 -0.2731533\n",
      "  -0.00232387  0.3178842  -0.02339805 -0.25442836  0.20959883 -0.17450534\n",
      "  -0.15343049]\n",
      " [ 0.20297261 -0.23855944  0.3001459  -0.1684985  -0.34560695  0.80345454\n",
      "  -0.07029476  0.00492291  0.00446307  0.04489802  0.04172316 -0.0192749\n",
      "   0.09651512]\n",
      " [-0.30975984  0.07432203  0.26700025 -0.06941441  0.39456113  0.05321583\n",
      "  -0.08701117  0.42435293 -0.02443168  0.19522139  0.05522596 -0.27138243\n",
      "   0.60071141]] \n",
      "\n",
      "Eigenvalues: \n",
      " [6.1389812  1.43611329 1.2450773  0.85927328 0.83646904 0.65870897\n",
      " 0.5364162  0.39688167 0.06363502 0.27749173 0.16963823 0.18638271\n",
      " 0.22067394] \n",
      "\n"
     ]
    }
   ],
   "source": [
    "# Using np.linalg.eig function\n",
    "eigen_values, eigen_vectors = np.linalg.eig(covariance_matrix)\n",
    "print(\"Eigenvector: \\n\",eigen_vectors,\"\\n\")\n",
    "print(\"Eigenvalues: \\n\", eigen_values, \"\\n\")"
   ]
  },
  {
   "cell_type": "code",
   "execution_count": 11,
   "id": "07103e8e",
   "metadata": {},
   "outputs": [
    {
     "name": "stdout",
     "output_type": "stream",
     "text": [
      "[47.1296063572747, 11.025193247587982, 9.558589792622943, 6.596731600836106, 6.421661052137349, 5.056978272291289, 4.118123739654439, 3.0469024189856686, 0.4885327726267128, 2.1303333054001854, 1.3023305792840134, 1.4308797464566034, 1.6941371148420106]\n"
     ]
    }
   ],
   "source": [
    "variance_explained = []\n",
    "for i in eigen_values:\n",
    "     variance_explained.append((i/sum(eigen_values))*100)\n",
    "        \n",
    "print(variance_explained)"
   ]
  },
  {
   "cell_type": "code",
   "execution_count": 12,
   "id": "58565f86",
   "metadata": {},
   "outputs": [
    {
     "data": {
      "text/plain": [
       "<BarContainer object of 13 artists>"
      ]
     },
     "execution_count": 12,
     "metadata": {},
     "output_type": "execute_result"
    },
    {
     "data": {
      "image/png": "[encoded data removed]",
      "text/plain": [
       "<Figure size 1490.4x595.44 with 1 Axes>"
      ]
     },
     "metadata": {},
     "output_type": "display_data"
    }
   ],
   "source": [
    "plt.bar(['pc1', 'pc2', 'pc3', 'pc4','pc5','pc6','pc7','pc8','pc9','pc10','pc11','pc12','pc13'], variance_explained)"
   ]
  },
  {
   "cell_type": "markdown",
   "id": "0a1ed707",
   "metadata": {},
   "source": [
    "### PCA Prosess (40)"
   ]
  },
  {
   "cell_type": "markdown",
   "id": "2e8b2197",
   "metadata": {},
   "source": [
    "1. lakukan data preprocessing termasuk melakukan reduksi dimensi dengan PCA (analisis berapa penggunaan PC yang tepat)"
   ]
  },
  {
   "cell_type": "code",
   "execution_count": 13,
   "id": "d760c117",
   "metadata": {},
   "outputs": [
    {
     "data": {
      "text/html": [
       "<div>\n",
       "<style scoped>\n",
       "    .dataframe tbody tr th:only-of-type {\n",
       "        vertical-align: middle;\n",
       "    }\n",
       "\n",
       "    .dataframe tbody tr th {\n",
       "        vertical-align: top;\n",
       "    }\n",
       "\n",
       "    .dataframe thead th {\n",
       "        text-align: right;\n",
       "    }\n",
       "</style>\n",
       "<table border=\"1\" class=\"dataframe\">\n",
       "  <thead>\n",
       "    <tr style=\"text-align: right;\">\n",
       "      <th></th>\n",
       "      <th>CRIM</th>\n",
       "      <th>ZN</th>\n",
       "      <th>INDUS</th>\n",
       "      <th>CHAS</th>\n",
       "      <th>NOX</th>\n",
       "      <th>RM</th>\n",
       "      <th>AGE</th>\n",
       "      <th>DIS</th>\n",
       "      <th>RAD</th>\n",
       "      <th>TAX</th>\n",
       "      <th>PTRATIO</th>\n",
       "      <th>B</th>\n",
       "      <th>LSTAT</th>\n",
       "    </tr>\n",
       "  </thead>\n",
       "  <tbody>\n",
       "    <tr>\n",
       "      <th>0</th>\n",
       "      <td>-0.419782</td>\n",
       "      <td>0.284830</td>\n",
       "      <td>-1.287909</td>\n",
       "      <td>-0.272599</td>\n",
       "      <td>-0.144217</td>\n",
       "      <td>0.413672</td>\n",
       "      <td>-0.120013</td>\n",
       "      <td>0.140214</td>\n",
       "      <td>-0.982843</td>\n",
       "      <td>-0.666608</td>\n",
       "      <td>-1.459000</td>\n",
       "      <td>0.441052</td>\n",
       "      <td>-1.075562</td>\n",
       "    </tr>\n",
       "    <tr>\n",
       "      <th>1</th>\n",
       "      <td>-0.417339</td>\n",
       "      <td>-0.487722</td>\n",
       "      <td>-0.593381</td>\n",
       "      <td>-0.272599</td>\n",
       "      <td>-0.740262</td>\n",
       "      <td>0.194274</td>\n",
       "      <td>0.367166</td>\n",
       "      <td>0.557160</td>\n",
       "      <td>-0.867883</td>\n",
       "      <td>-0.987329</td>\n",
       "      <td>-0.303094</td>\n",
       "      <td>0.441052</td>\n",
       "      <td>-0.492439</td>\n",
       "    </tr>\n",
       "    <tr>\n",
       "      <th>2</th>\n",
       "      <td>-0.417342</td>\n",
       "      <td>-0.487722</td>\n",
       "      <td>-0.593381</td>\n",
       "      <td>-0.272599</td>\n",
       "      <td>-0.740262</td>\n",
       "      <td>1.282714</td>\n",
       "      <td>-0.265812</td>\n",
       "      <td>0.557160</td>\n",
       "      <td>-0.867883</td>\n",
       "      <td>-0.987329</td>\n",
       "      <td>-0.303094</td>\n",
       "      <td>0.396427</td>\n",
       "      <td>-1.208727</td>\n",
       "    </tr>\n",
       "  </tbody>\n",
       "</table>\n",
       "</div>"
      ],
      "text/plain": [
       "       CRIM        ZN     INDUS      CHAS       NOX        RM       AGE  \\\n",
       "0 -0.419782  0.284830 -1.287909 -0.272599 -0.144217  0.413672 -0.120013   \n",
       "1 -0.417339 -0.487722 -0.593381 -0.272599 -0.740262  0.194274  0.367166   \n",
       "2 -0.417342 -0.487722 -0.593381 -0.272599 -0.740262  1.282714 -0.265812   \n",
       "\n",
       "        DIS       RAD       TAX   PTRATIO         B     LSTAT  \n",
       "0  0.140214 -0.982843 -0.666608 -1.459000  0.441052 -1.075562  \n",
       "1  0.557160 -0.867883 -0.987329 -0.303094  0.441052 -0.492439  \n",
       "2  0.557160 -0.867883 -0.987329 -0.303094  0.396427 -1.208727  "
      ]
     },
     "execution_count": 13,
     "metadata": {},
     "output_type": "execute_result"
    }
   ],
   "source": [
    "scaler = StandardScaler()\n",
    "scaler.fit(unscaled_X)\n",
    "X = scaler.transform(unscaled_X)\n",
    "\n",
    "new_df = pd.DataFrame(data = X, columns = list(unscaled_X))\n",
    "new_df.head(3)"
   ]
  },
  {
   "cell_type": "code",
   "execution_count": 14,
   "id": "28201acc",
   "metadata": {
    "scrolled": true
   },
   "outputs": [
    {
     "data": {
      "text/plain": [
       "array([[ 1.0019802 , -0.20086619,  0.40738853, -0.05600226,  0.42180532,\n",
       "        -0.21968085,  0.35343273, -0.38042191,  0.62674377,  0.5839183 ,\n",
       "         0.29051973, -0.38582644,  0.4565237 ],\n",
       "       [-0.20086619,  1.0019802 , -0.53488527, -0.04278127, -0.51762669,\n",
       "         0.31260839, -0.57066514,  0.66572388, -0.31256554, -0.31518622,\n",
       "        -0.39245415,  0.17586788, -0.41381239],\n",
       "       [ 0.40738853, -0.53488527,  1.0019802 ,  0.06306266,  0.76516363,\n",
       "        -0.39245145,  0.6460553 , -0.70942902,  0.59630775,  0.72218743,\n",
       "         0.38400646, -0.35768342,  0.60499536],\n",
       "       [-0.05600226, -0.04278127,  0.06306266,  1.0019802 ,  0.09138341,\n",
       "         0.09143192,  0.0866891 , -0.09937217, -0.00738283, -0.03565699,\n",
       "        -0.1217558 ,  0.0488851 , -0.05403609],\n",
       "       [ 0.42180532, -0.51762669,  0.76516363,  0.09138341,  1.0019802 ,\n",
       "        -0.30278658,  0.73291856, -0.77075334,  0.61265134,  0.66934602,\n",
       "         0.1893068 , -0.38080321,  0.59204898],\n",
       "       [-0.21968085,  0.31260839, -0.39245145,  0.09143192, -0.30278658,\n",
       "         1.0019802 , -0.2407407 ,  0.20565264, -0.21026221, -0.29262615,\n",
       "        -0.35620546,  0.12832224, -0.61502373],\n",
       "       [ 0.35343273, -0.57066514,  0.6460553 ,  0.0866891 ,  0.73291856,\n",
       "        -0.2407407 ,  1.0019802 , -0.74936149,  0.45692547,  0.50745848,\n",
       "         0.26203286, -0.27407563,  0.60353128],\n",
       "       [-0.38042191,  0.66572388, -0.70942902, -0.09937217, -0.77075334,\n",
       "         0.20565264, -0.74936149,  1.0019802 , -0.49556731, -0.53548986,\n",
       "        -0.23293088,  0.29208892, -0.49797998],\n",
       "       [ 0.62674377, -0.31256554,  0.59630775, -0.00738283,  0.61265134,\n",
       "        -0.21026221,  0.45692547, -0.49556731,  1.0019802 ,  0.91203062,\n",
       "         0.46566146, -0.44529284,  0.48964401],\n",
       "       [ 0.5839183 , -0.31518622,  0.72218743, -0.03565699,  0.66934602,\n",
       "        -0.29262615,  0.50745848, -0.53548986,  0.91203062,  1.0019802 ,\n",
       "         0.46176562, -0.44268287,  0.54507063],\n",
       "       [ 0.29051973, -0.39245415,  0.38400646, -0.1217558 ,  0.1893068 ,\n",
       "        -0.35620546,  0.26203286, -0.23293088,  0.46566146,  0.46176562,\n",
       "         1.0019802 , -0.17773456,  0.374785  ],\n",
       "       [-0.38582644,  0.17586788, -0.35768342,  0.0488851 , -0.38080321,\n",
       "         0.12832224, -0.27407563,  0.29208892, -0.44529284, -0.44268287,\n",
       "        -0.17773456,  1.0019802 , -0.36681183],\n",
       "       [ 0.4565237 , -0.41381239,  0.60499536, -0.05403609,  0.59204898,\n",
       "        -0.61502373,  0.60353128, -0.49797998,  0.48964401,  0.54507063,\n",
       "         0.374785  , -0.36681183,  1.0019802 ]])"
      ]
     },
     "execution_count": 14,
     "metadata": {},
     "output_type": "execute_result"
    }
   ],
   "source": [
    "covariance_matrix = np.cov(X.T)\n",
    "covariance_matrix"
   ]
  },
  {
   "cell_type": "code",
   "execution_count": 15,
   "id": "b761221e",
   "metadata": {
    "scrolled": false
   },
   "outputs": [
    {
     "name": "stdout",
     "output_type": "stream",
     "text": [
      "Eigenvector: \n",
      " [[-0.2509514   0.31525237 -0.24656649 -0.06177071  0.08215692  0.21965961\n",
      "  -0.77760721 -0.15335048 -0.0459523  -0.26039028  0.08676107  0.10964435\n",
      "  -0.01936913]\n",
      " [ 0.25631454  0.3233129  -0.29585782 -0.12871159  0.32061699  0.3233881\n",
      "   0.27499628  0.40268031  0.08091897 -0.35813749 -0.07142528 -0.26275629\n",
      "  -0.26752723]\n",
      " [-0.34667207 -0.11249291  0.01594592 -0.01714571 -0.00781119  0.0761379\n",
      "   0.33957645 -0.17393172  0.25107654 -0.64441615 -0.11319963  0.30316943\n",
      "   0.36353226]\n",
      " [-0.00504243 -0.45482914 -0.28978082 -0.81594136  0.08653094 -0.16749014\n",
      "  -0.07413621  0.02466215 -0.03592171  0.01372777 -0.00398268 -0.01392667\n",
      "   0.00618184]\n",
      " [-0.34285231 -0.21911553 -0.12096411  0.12822614  0.13685356  0.15298267\n",
      "   0.19963484 -0.08012056 -0.04363045  0.01852201  0.80432257 -0.11131888\n",
      "  -0.23105645]\n",
      " [ 0.18924257 -0.14933154 -0.59396117  0.28059184 -0.4234472  -0.05926707\n",
      "  -0.06393992  0.32675226 -0.0455671  -0.04789804  0.15287286 -0.05316154\n",
      "   0.43142019]\n",
      " [-0.3136706  -0.31197778  0.01767481  0.17520603  0.01669085  0.07170914\n",
      "  -0.11601071  0.60082292  0.03855068  0.06756218 -0.21193607  0.45915939\n",
      "  -0.36277896]\n",
      " [ 0.32154387  0.34907     0.04973627 -0.21543585  0.09859225 -0.02343872\n",
      "   0.10390044  0.12181198  0.01829854  0.15329124  0.39094113  0.69569257\n",
      "   0.17121314]\n",
      " [-0.31979277  0.27152094 -0.28725483 -0.13234996 -0.20413162  0.14319401\n",
      "   0.13794255 -0.08035831  0.63348972  0.47089067 -0.10702589 -0.03654388\n",
      "  -0.02190945]\n",
      " [-0.33846915  0.23945365 -0.22074447 -0.10333509 -0.13046057  0.19293428\n",
      "   0.31488683 -0.08277435 -0.72023345  0.17656339 -0.21519113  0.10483575\n",
      "   0.03516835]\n",
      " [-0.20494226  0.30589695  0.32344627 -0.28262198 -0.58400223 -0.2731533\n",
      "  -0.00232387  0.3178842  -0.02339805 -0.25442836  0.20959883 -0.17450534\n",
      "  -0.15343049]\n",
      " [ 0.20297261 -0.23855944  0.3001459  -0.1684985  -0.34560695  0.80345454\n",
      "  -0.07029476  0.00492291  0.00446307  0.04489802  0.04172316 -0.0192749\n",
      "   0.09651512]\n",
      " [-0.30975984  0.07432203  0.26700025 -0.06941441  0.39456113  0.05321583\n",
      "  -0.08701117  0.42435293 -0.02443168  0.19522139  0.05522596 -0.27138243\n",
      "   0.60071141]] \n",
      "\n",
      "Eigenvalues: \n",
      " [6.1389812  1.43611329 1.2450773  0.85927328 0.83646904 0.65870897\n",
      " 0.5364162  0.39688167 0.06363502 0.27749173 0.16963823 0.18638271\n",
      " 0.22067394] \n",
      "\n"
     ]
    }
   ],
   "source": [
    "# Using np.linalg.eig function\n",
    "eigen_values, eigen_vectors = np.linalg.eig(covariance_matrix)\n",
    "print(\"Eigenvector: \\n\",eigen_vectors,\"\\n\")\n",
    "print(\"Eigenvalues: \\n\", eigen_values, \"\\n\")"
   ]
  },
  {
   "cell_type": "code",
   "execution_count": 16,
   "id": "700cf4df",
   "metadata": {},
   "outputs": [
    {
     "name": "stdout",
     "output_type": "stream",
     "text": [
      "[47.1296063572747, 11.025193247587982, 9.558589792622943, 6.596731600836106, 6.421661052137349, 5.056978272291289, 4.118123739654439, 3.0469024189856686, 0.4885327726267128, 2.1303333054001854, 1.3023305792840134, 1.4308797464566034, 1.6941371148420106]\n"
     ]
    }
   ],
   "source": [
    "variance_explained = []\n",
    "for i in eigen_values:\n",
    "     variance_explained.append((i/sum(eigen_values))*100)\n",
    "        \n",
    "print(variance_explained)"
   ]
  },
  {
   "cell_type": "code",
   "execution_count": 17,
   "id": "c1036dac",
   "metadata": {},
   "outputs": [
    {
     "data": {
      "text/plain": [
       "<BarContainer object of 13 artists>"
      ]
     },
     "execution_count": 17,
     "metadata": {},
     "output_type": "execute_result"
    },
    {
     "data": {
      "image/png": "[encoded data removed]",
      "text/plain": [
       "<Figure size 1490.4x595.44 with 1 Axes>"
      ]
     },
     "metadata": {},
     "output_type": "display_data"
    }
   ],
   "source": [
    "plt.bar(['pc1', 'pc2', 'pc3', 'pc4','pc5','pc6','pc7','pc8','pc9','pc10','pc11','pc12','pc13'], variance_explained)"
   ]
  },
  {
   "cell_type": "code",
   "execution_count": 18,
   "id": "a6917701",
   "metadata": {},
   "outputs": [
    {
     "name": "stdout",
     "output_type": "stream",
     "text": [
      "[ 47.12960636  58.1547996   67.7133894   74.310121    80.73178205\n",
      "  85.78876032  89.90688406  92.95378648  93.44231925  95.57265256\n",
      "  96.87498314  98.30586289 100.        ]\n"
     ]
    }
   ],
   "source": [
    "# Identifying components that explain at least 80%\n",
    "cumulative_variance_explained = np.cumsum(variance_explained)\n",
    "print(cumulative_variance_explained)"
   ]
  },
  {
   "cell_type": "code",
   "execution_count": 19,
   "id": "0360c33b",
   "metadata": {
    "scrolled": false
   },
   "outputs": [
    {
     "data": {
      "text/plain": [
       "Text(0.5, 1.0, 'Explained variance vs Number of components')"
      ]
     },
     "execution_count": 19,
     "metadata": {},
     "output_type": "execute_result"
    },
    {
     "data": {
      "image/png": "[encoded data removed]",
      "text/plain": [
       "<Figure size 1490.4x595.44 with 1 Axes>"
      ]
     },
     "metadata": {},
     "output_type": "display_data"
    }
   ],
   "source": [
    "sns.lineplot(x = [1,2,3,4,5,6,7,8,9,10,11,12,13], y=cumulative_variance_explained)\n",
    "plt.xlabel(\"Number of components\")\n",
    "plt.ylabel(\"Cumulative explained variance\")\n",
    "plt.title(\"Explained variance vs Number of components\")"
   ]
  },
  {
   "cell_type": "code",
   "execution_count": 20,
   "id": "7d779c1d",
   "metadata": {},
   "outputs": [
    {
     "name": "stdout",
     "output_type": "stream",
     "text": [
      "[[-0.2509514   0.31525237 -0.24656649 -0.06177071  0.08215692]\n",
      " [ 0.25631454  0.3233129  -0.29585782 -0.12871159  0.32061699]\n",
      " [-0.34667207 -0.11249291  0.01594592 -0.01714571 -0.00781119]\n",
      " [-0.00504243 -0.45482914 -0.28978082 -0.81594136  0.08653094]\n",
      " [-0.34285231 -0.21911553 -0.12096411  0.12822614  0.13685356]\n",
      " [ 0.18924257 -0.14933154 -0.59396117  0.28059184 -0.4234472 ]\n",
      " [-0.3136706  -0.31197778  0.01767481  0.17520603  0.01669085]\n",
      " [ 0.32154387  0.34907     0.04973627 -0.21543585  0.09859225]\n",
      " [-0.31979277  0.27152094 -0.28725483 -0.13234996 -0.20413162]\n",
      " [-0.33846915  0.23945365 -0.22074447 -0.10333509 -0.13046057]\n",
      " [-0.20494226  0.30589695  0.32344627 -0.28262198 -0.58400223]\n",
      " [ 0.20297261 -0.23855944  0.3001459  -0.1684985  -0.34560695]\n",
      " [-0.30975984  0.07432203  0.26700025 -0.06941441  0.39456113]]\n"
     ]
    }
   ],
   "source": [
    "# Using Five first components (at least upto 80%)\n",
    "projection_matrix = (eigen_vectors.T[:][:5]).T\n",
    "print(projection_matrix)"
   ]
  },
  {
   "cell_type": "code",
   "execution_count": 21,
   "id": "2f222b2b",
   "metadata": {
    "scrolled": true
   },
   "outputs": [
    {
     "data": {
      "text/html": [
       "<div>\n",
       "<style scoped>\n",
       "    .dataframe tbody tr th:only-of-type {\n",
       "        vertical-align: middle;\n",
       "    }\n",
       "\n",
       "    .dataframe tbody tr th {\n",
       "        vertical-align: top;\n",
       "    }\n",
       "\n",
       "    .dataframe thead th {\n",
       "        text-align: right;\n",
       "    }\n",
       "</style>\n",
       "<table border=\"1\" class=\"dataframe\">\n",
       "  <thead>\n",
       "    <tr style=\"text-align: right;\">\n",
       "      <th></th>\n",
       "      <th>pc1</th>\n",
       "      <th>pc2</th>\n",
       "      <th>pc3</th>\n",
       "      <th>pc4</th>\n",
       "      <th>pc5</th>\n",
       "      <th>pc6</th>\n",
       "      <th>pc7</th>\n",
       "      <th>pc8</th>\n",
       "      <th>pc9</th>\n",
       "      <th>pc10</th>\n",
       "      <th>pc11</th>\n",
       "      <th>pc12</th>\n",
       "      <th>pc13</th>\n",
       "      <th>MEDV</th>\n",
       "    </tr>\n",
       "  </thead>\n",
       "  <tbody>\n",
       "    <tr>\n",
       "      <th>0</th>\n",
       "      <td>-2.098297</td>\n",
       "      <td>0.773113</td>\n",
       "      <td>0.342943</td>\n",
       "      <td>-0.891774</td>\n",
       "      <td>0.423070</td>\n",
       "      <td>-0.315338</td>\n",
       "      <td>0.318641</td>\n",
       "      <td>0.295832</td>\n",
       "      <td>-0.424937</td>\n",
       "      <td>0.640206</td>\n",
       "      <td>-0.033000</td>\n",
       "      <td>0.019440</td>\n",
       "      <td>0.365975</td>\n",
       "      <td>24.0</td>\n",
       "    </tr>\n",
       "    <tr>\n",
       "      <th>1</th>\n",
       "      <td>-1.457252</td>\n",
       "      <td>0.591985</td>\n",
       "      <td>-0.695199</td>\n",
       "      <td>-0.487459</td>\n",
       "      <td>-0.195876</td>\n",
       "      <td>0.264223</td>\n",
       "      <td>0.553861</td>\n",
       "      <td>-0.223670</td>\n",
       "      <td>-0.166962</td>\n",
       "      <td>0.084236</td>\n",
       "      <td>-0.640810</td>\n",
       "      <td>-0.125797</td>\n",
       "      <td>-0.070719</td>\n",
       "      <td>21.6</td>\n",
       "    </tr>\n",
       "    <tr>\n",
       "      <th>2</th>\n",
       "      <td>-2.074598</td>\n",
       "      <td>0.599639</td>\n",
       "      <td>0.167122</td>\n",
       "      <td>-0.739204</td>\n",
       "      <td>-0.934534</td>\n",
       "      <td>0.448095</td>\n",
       "      <td>0.484560</td>\n",
       "      <td>0.105166</td>\n",
       "      <td>0.069775</td>\n",
       "      <td>-0.180380</td>\n",
       "      <td>-0.487557</td>\n",
       "      <td>0.133327</td>\n",
       "      <td>-0.014022</td>\n",
       "      <td>34.7</td>\n",
       "    </tr>\n",
       "    <tr>\n",
       "      <th>3</th>\n",
       "      <td>-2.611504</td>\n",
       "      <td>-0.006871</td>\n",
       "      <td>-0.100284</td>\n",
       "      <td>-0.343721</td>\n",
       "      <td>-1.104956</td>\n",
       "      <td>0.664649</td>\n",
       "      <td>0.622641</td>\n",
       "      <td>0.255941</td>\n",
       "      <td>-0.342246</td>\n",
       "      <td>0.045901</td>\n",
       "      <td>-0.360209</td>\n",
       "      <td>0.508678</td>\n",
       "      <td>0.007847</td>\n",
       "      <td>33.4</td>\n",
       "    </tr>\n",
       "    <tr>\n",
       "      <th>4</th>\n",
       "      <td>-2.458185</td>\n",
       "      <td>0.097712</td>\n",
       "      <td>-0.075348</td>\n",
       "      <td>-0.427907</td>\n",
       "      <td>-1.065924</td>\n",
       "      <td>0.617047</td>\n",
       "      <td>0.705086</td>\n",
       "      <td>-0.134524</td>\n",
       "      <td>-0.417668</td>\n",
       "      <td>-0.140880</td>\n",
       "      <td>-0.395150</td>\n",
       "      <td>0.497732</td>\n",
       "      <td>0.014274</td>\n",
       "      <td>36.2</td>\n",
       "    </tr>\n",
       "  </tbody>\n",
       "</table>\n",
       "</div>"
      ],
      "text/plain": [
       "        pc1       pc2       pc3       pc4       pc5       pc6       pc7  \\\n",
       "0 -2.098297  0.773113  0.342943 -0.891774  0.423070 -0.315338  0.318641   \n",
       "1 -1.457252  0.591985 -0.695199 -0.487459 -0.195876  0.264223  0.553861   \n",
       "2 -2.074598  0.599639  0.167122 -0.739204 -0.934534  0.448095  0.484560   \n",
       "3 -2.611504 -0.006871 -0.100284 -0.343721 -1.104956  0.664649  0.622641   \n",
       "4 -2.458185  0.097712 -0.075348 -0.427907 -1.065924  0.617047  0.705086   \n",
       "\n",
       "        pc8       pc9      pc10      pc11      pc12      pc13  MEDV  \n",
       "0  0.295832 -0.424937  0.640206 -0.033000  0.019440  0.365975  24.0  \n",
       "1 -0.223670 -0.166962  0.084236 -0.640810 -0.125797 -0.070719  21.6  \n",
       "2  0.105166  0.069775 -0.180380 -0.487557  0.133327 -0.014022  34.7  \n",
       "3  0.255941 -0.342246  0.045901 -0.360209  0.508678  0.007847  33.4  \n",
       "4 -0.134524 -0.417668 -0.140880 -0.395150  0.497732  0.014274  36.2  "
      ]
     },
     "execution_count": 21,
     "metadata": {},
     "output_type": "execute_result"
    }
   ],
   "source": [
    "pca = PCA(n_components=13)\n",
    "pca.fit(X)\n",
    "pcs = pca.transform(X)\n",
    "\n",
    "pdf = pd.DataFrame(data = pcs, columns = ['pc1', 'pc2', 'pc3', 'pc4','pc5','pc6','pc7','pc8','pc9','pc10','pc11','pc12','pc13'])\n",
    "pdf['MEDV'] = y\n",
    "pdf.head()"
   ]
  },
  {
   "cell_type": "code",
   "execution_count": 22,
   "id": "a9bf5bd2",
   "metadata": {},
   "outputs": [
    {
     "data": {
      "text/html": [
       "<div>\n",
       "<style scoped>\n",
       "    .dataframe tbody tr th:only-of-type {\n",
       "        vertical-align: middle;\n",
       "    }\n",
       "\n",
       "    .dataframe tbody tr th {\n",
       "        vertical-align: top;\n",
       "    }\n",
       "\n",
       "    .dataframe thead th {\n",
       "        text-align: right;\n",
       "    }\n",
       "</style>\n",
       "<table border=\"1\" class=\"dataframe\">\n",
       "  <thead>\n",
       "    <tr style=\"text-align: right;\">\n",
       "      <th></th>\n",
       "      <th>pc1</th>\n",
       "      <th>pc2</th>\n",
       "      <th>pc3</th>\n",
       "      <th>pc4</th>\n",
       "      <th>pc5</th>\n",
       "      <th>target</th>\n",
       "    </tr>\n",
       "  </thead>\n",
       "  <tbody>\n",
       "    <tr>\n",
       "      <th>0</th>\n",
       "      <td>-2.098297</td>\n",
       "      <td>0.773113</td>\n",
       "      <td>0.342943</td>\n",
       "      <td>-0.891774</td>\n",
       "      <td>0.423070</td>\n",
       "      <td>24.0</td>\n",
       "    </tr>\n",
       "    <tr>\n",
       "      <th>1</th>\n",
       "      <td>-1.457252</td>\n",
       "      <td>0.591985</td>\n",
       "      <td>-0.695199</td>\n",
       "      <td>-0.487459</td>\n",
       "      <td>-0.195876</td>\n",
       "      <td>21.6</td>\n",
       "    </tr>\n",
       "    <tr>\n",
       "      <th>2</th>\n",
       "      <td>-2.074598</td>\n",
       "      <td>0.599639</td>\n",
       "      <td>0.167122</td>\n",
       "      <td>-0.739204</td>\n",
       "      <td>-0.934534</td>\n",
       "      <td>34.7</td>\n",
       "    </tr>\n",
       "    <tr>\n",
       "      <th>3</th>\n",
       "      <td>-2.611504</td>\n",
       "      <td>-0.006871</td>\n",
       "      <td>-0.100284</td>\n",
       "      <td>-0.343721</td>\n",
       "      <td>-1.104956</td>\n",
       "      <td>33.4</td>\n",
       "    </tr>\n",
       "    <tr>\n",
       "      <th>4</th>\n",
       "      <td>-2.458185</td>\n",
       "      <td>0.097712</td>\n",
       "      <td>-0.075348</td>\n",
       "      <td>-0.427907</td>\n",
       "      <td>-1.065924</td>\n",
       "      <td>36.2</td>\n",
       "    </tr>\n",
       "  </tbody>\n",
       "</table>\n",
       "</div>"
      ],
      "text/plain": [
       "        pc1       pc2       pc3       pc4       pc5  target\n",
       "0 -2.098297  0.773113  0.342943 -0.891774  0.423070    24.0\n",
       "1 -1.457252  0.591985 -0.695199 -0.487459 -0.195876    21.6\n",
       "2 -2.074598  0.599639  0.167122 -0.739204 -0.934534    34.7\n",
       "3 -2.611504 -0.006871 -0.100284 -0.343721 -1.104956    33.4\n",
       "4 -2.458185  0.097712 -0.075348 -0.427907 -1.065924    36.2"
      ]
     },
     "execution_count": 22,
     "metadata": {},
     "output_type": "execute_result"
    }
   ],
   "source": [
    "pca = PCA(n_components=5)\n",
    "pca.fit(X)\n",
    "pcs = pca.transform(X)\n",
    "\n",
    "X_std_pca = pd.DataFrame(data = pcs, columns = ['pc1', 'pc2', 'pc3', 'pc4','pc5'])\n",
    "X_std_pca['target'] = y\n",
    "X_std_pca.head()"
   ]
  },
  {
   "cell_type": "markdown",
   "id": "a8aa89fc",
   "metadata": {},
   "source": [
    "## Regression Model (20 point)"
   ]
  },
  {
   "cell_type": "markdown",
   "id": "65906ffd",
   "metadata": {},
   "source": [
    "bebas menggunakan model apapun"
   ]
  },
  {
   "cell_type": "markdown",
   "id": "f7dbfc52",
   "metadata": {},
   "source": [
    "## Linear Regression Model without Dimensionality Reduction"
   ]
  },
  {
   "cell_type": "code",
   "execution_count": 23,
   "id": "c7a19a73",
   "metadata": {},
   "outputs": [],
   "source": [
    "X_train, X_test, y_train, y_test = train_test_split(X, y, test_size = 0.2, random_state = 42)"
   ]
  },
  {
   "cell_type": "code",
   "execution_count": 24,
   "id": "551d042f",
   "metadata": {},
   "outputs": [
    {
     "data": {
      "text/plain": [
       "0.6688"
      ]
     },
     "execution_count": 24,
     "metadata": {},
     "output_type": "execute_result"
    }
   ],
   "source": [
    "lr = LinearRegression()\n",
    "\n",
    "# Train the model\n",
    "model = lr.fit(X_train, y_train)\n",
    "\n",
    "# Prediction\n",
    "y_pred =  lr.predict(X_test)\n",
    "\n",
    "# Accuracy Score\n",
    "lr.score(X_test, y_test).round(4)"
   ]
  },
  {
   "cell_type": "markdown",
   "id": "a630f1be",
   "metadata": {},
   "source": [
    "## Linear Regression Model with PCA"
   ]
  },
  {
   "cell_type": "code",
   "execution_count": 25,
   "id": "0ee0f50b",
   "metadata": {},
   "outputs": [],
   "source": [
    "X_new = X_std_pca.drop('target', axis=1)\n",
    "Y_new = X_std_pca['target']\n",
    "\n",
    "X_train_pca, X_test_pca,Y_train_pca,Y_test_pca = train_test_split(X_new,Y_new,\n",
    "                                                test_size = 0.2,\n",
    "                                                random_state = 42)"
   ]
  },
  {
   "cell_type": "code",
   "execution_count": 26,
   "id": "4d149c1c",
   "metadata": {},
   "outputs": [
    {
     "data": {
      "text/plain": [
       "0.5934"
      ]
     },
     "execution_count": 26,
     "metadata": {},
     "output_type": "execute_result"
    }
   ],
   "source": [
    "pca_lr = LinearRegression()\n",
    "\n",
    "# Train the model\n",
    "pca_model = pca_lr.fit(X_train_pca, Y_train_pca)\n",
    "\n",
    "# Prediction\n",
    "pca_y_pred =  pca_lr.predict(X_test_pca)\n",
    "\n",
    "# Accuracy Score\n",
    "pca_lr.score(X_test_pca, Y_test_pca).round(4)"
   ]
  },
  {
   "cell_type": "markdown",
   "id": "9930db20",
   "metadata": {},
   "source": [
    "## Evaluasi (20)"
   ]
  },
  {
   "cell_type": "markdown",
   "id": "25f12f6d",
   "metadata": {},
   "source": [
    "Bandingkan hasil menggunakan PCA dan tidak menggunakan PCA"
   ]
  },
  {
   "cell_type": "code",
   "execution_count": 27,
   "id": "38106784",
   "metadata": {},
   "outputs": [],
   "source": [
    "X_new = X_std_pca.drop('target', axis=1)\n",
    "Y_new = X_std_pca['target']\n",
    "\n",
    "X_train_pca, X_test_pca,Y_train_pca,Y_test_pca = train_test_split(X_new,Y_new,\n",
    "                                                test_size = 0.2,\n",
    "                                                random_state = 42)"
   ]
  },
  {
   "cell_type": "code",
   "execution_count": 28,
   "id": "efccba7e",
   "metadata": {},
   "outputs": [],
   "source": [
    "X_train, X_test,Y_train,Y_test = train_test_split(X,y,\n",
    "                                                test_size = 0.4,\n",
    "                                                random_state = 42)"
   ]
  },
  {
   "cell_type": "markdown",
   "id": "4d92ac85",
   "metadata": {},
   "source": [
    "## Modelling without PCA"
   ]
  },
  {
   "cell_type": "code",
   "execution_count": 29,
   "id": "d680655a",
   "metadata": {},
   "outputs": [
    {
     "data": {
      "text/plain": [
       "DecisionTreeRegressor()"
      ]
     },
     "execution_count": 29,
     "metadata": {},
     "output_type": "execute_result"
    }
   ],
   "source": [
    "model_pca = DecisionTreeRegressor()\n",
    "model_pca.fit(X_train_pca, Y_train_pca)"
   ]
  },
  {
   "cell_type": "code",
   "execution_count": 30,
   "id": "b992dd6d",
   "metadata": {
    "scrolled": true
   },
   "outputs": [
    {
     "data": {
      "text/plain": [
       "1.0"
      ]
     },
     "execution_count": 30,
     "metadata": {},
     "output_type": "execute_result"
    }
   ],
   "source": [
    "model_pca.score(X_train_pca, Y_train_pca)"
   ]
  },
  {
   "cell_type": "code",
   "execution_count": 31,
   "id": "9d0532c0",
   "metadata": {},
   "outputs": [
    {
     "name": "stdout",
     "output_type": "stream",
     "text": [
      "MSE:  23.832156862745098\n",
      "RMSE:  4.881819011674347\n"
     ]
    }
   ],
   "source": [
    "ypred = model_pca.predict(X_test_pca)\n",
    "\n",
    "mse = mean_squared_error(Y_test_pca, ypred)\n",
    "print(\"MSE: \", mse)\n",
    "print(\"RMSE: \", mse**(1/2.0))"
   ]
  },
  {
   "cell_type": "markdown",
   "id": "b30224dc",
   "metadata": {},
   "source": [
    "## Modelling with PCA"
   ]
  },
  {
   "cell_type": "code",
   "execution_count": 32,
   "id": "02a998a1",
   "metadata": {},
   "outputs": [
    {
     "data": {
      "text/plain": [
       "DecisionTreeRegressor()"
      ]
     },
     "execution_count": 32,
     "metadata": {},
     "output_type": "execute_result"
    }
   ],
   "source": [
    "model = DecisionTreeRegressor()\n",
    "model.fit(X_train, Y_train)"
   ]
  },
  {
   "cell_type": "code",
   "execution_count": 33,
   "id": "3d9d029c",
   "metadata": {},
   "outputs": [
    {
     "data": {
      "text/plain": [
       "1.0"
      ]
     },
     "execution_count": 33,
     "metadata": {},
     "output_type": "execute_result"
    }
   ],
   "source": [
    "model.score(X_train, Y_train)"
   ]
  },
  {
   "cell_type": "code",
   "execution_count": 36,
   "id": "97244199",
   "metadata": {},
   "outputs": [
    {
     "name": "stdout",
     "output_type": "stream",
     "text": [
      "MSE:  23.566600985221672\n",
      "RMSE:  4.854544364327271\n"
     ]
    }
   ],
   "source": [
    "ypred = model.predict(X_test)\n",
    "\n",
    "mse = mean_squared_error(Y_test, ypred)\n",
    "print(\"MSE: \", mse)\n",
    "print(\"RMSE: \", mse**(1/2.0))"
   ]
  },
  {
   "cell_type": "code",
   "execution_count": null,
   "id": "b5086287",
   "metadata": {},
   "outputs": [],
   "source": []
  }
 ],
 "metadata": {
  "kernelspec": {
   "display_name": "Python 3 (ipykernel)",
   "language": "python",
   "name": "python3"
  },
  "language_info": {
   "codemirror_mode": {
    "name": "ipython",
    "version": 3
   },
   "file_extension": ".py",
   "mimetype": "text/x-python",
   "name": "python",
   "nbconvert_exporter": "python",
   "pygments_lexer": "ipython3",
   "version": "3.9.7"
  },
  "toc": {
   "base_numbering": 1,
   "nav_menu": {},
   "number_sections": true,
   "sideBar": true,
   "skip_h1_title": false,
   "title_cell": "Table of Contents",
   "title_sidebar": "Contents",
   "toc_cell": false,
   "toc_position": {},
   "toc_section_display": true,
   "toc_window_display": false
  },
  "varInspector": {
   "cols": {
    "lenName": 16,
    "lenType": 16,
    "lenVar": 40
   },
   "kernels_config": {
    "python": {
     "delete_cmd_postfix": "",
     "delete_cmd_prefix": "del ",
     "library": "var_list.py",
     "varRefreshCmd": "print(var_dic_list())"
    },
    "r": {
     "delete_cmd_postfix": ") ",
     "delete_cmd_prefix": "rm(",
     "library": "var_list.r",
     "varRefreshCmd": "cat(var_dic_list()) "
    }
   },
   "types_to_exclude": [
    "module",
    "function",
    "builtin_function_or_method",
    "instance",
    "_Feature"
   ],
   "window_display": false
  }
 },
 "nbformat": 4,
 "nbformat_minor": 5
}
