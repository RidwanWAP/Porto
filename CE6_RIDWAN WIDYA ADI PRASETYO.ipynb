{
 "cells": [
  {
   "cell_type": "code",
   "execution_count": 1,
   "id": "b6fc4043",
   "metadata": {
    "id": "b6fc4043"
   },
   "outputs": [
    {
     "name": "stdout",
     "output_type": "stream",
     "text": [
      "Collecting pandasql\n",
      "  Downloading pandasql-0.7.3.tar.gz (26 kB)\n",
      "Requirement already satisfied: numpy in d:\\anaconda3\\lib\\site-packages (from pandasql) (1.20.3)\n",
      "Requirement already satisfied: pandas in d:\\anaconda3\\lib\\site-packages (from pandasql) (1.4.1)\n",
      "Requirement already satisfied: sqlalchemy in d:\\anaconda3\\lib\\site-packages (from pandasql) (1.4.32)\n",
      "Requirement already satisfied: python-dateutil>=2.8.1 in d:\\anaconda3\\lib\\site-packages (from pandas->pandasql) (2.8.2)\n",
      "Requirement already satisfied: pytz>=2020.1 in d:\\anaconda3\\lib\\site-packages (from pandas->pandasql) (2021.3)\n",
      "Requirement already satisfied: six>=1.5 in d:\\anaconda3\\lib\\site-packages (from python-dateutil>=2.8.1->pandas->pandasql) (1.16.0)\n",
      "Requirement already satisfied: greenlet!=0.4.17 in d:\\anaconda3\\lib\\site-packages (from sqlalchemy->pandasql) (1.1.1)\n",
      "Building wheels for collected packages: pandasql\n",
      "  Building wheel for pandasql (setup.py): started\n",
      "  Building wheel for pandasql (setup.py): finished with status 'done'\n",
      "  Created wheel for pandasql: filename=pandasql-0.7.3-py3-none-any.whl size=26784 sha256=369e20c8108e89b53dcca6dff1b97d2492c63d1a2b6e28b01d7b7653d854856f\n",
      "  Stored in directory: c:\\users\\ridwan widya adi p\\appdata\\local\\pip\\cache\\wheels\\63\\e8\\ec\\75b1df467ecf57b6ececb32cb16f4e86697cbfe55cb0c51f07\n",
      "Successfully built pandasql\n",
      "Installing collected packages: pandasql\n",
      "Successfully installed pandasql-0.7.3\n"
     ]
    }
   ],
   "source": [
    "### JALANKAN CELL INI TERLEBIH DAHULU ###\n",
    "!pip install pandasql"
   ]
  },
  {
   "cell_type": "code",
   "execution_count": 2,
   "id": "75ebaeb0",
   "metadata": {
    "id": "75ebaeb0"
   },
   "outputs": [],
   "source": [
    "import pandas as pd\n",
    "import pandasql\n",
    "\n",
    "from pandasql import sqldf \n",
    "sql_run = lambda q: sqldf(q, globals())"
   ]
  },
  {
   "cell_type": "code",
   "execution_count": 3,
   "id": "142c51ce",
   "metadata": {
    "id": "142c51ce"
   },
   "outputs": [],
   "source": [
    "worldcity = pd.read_csv('worldcities.csv', sep = ';', encoding = 'latin-1')\n",
    "uscity = pd.read_csv('uscities.csv', sep = ';', encoding = 'latin-1')\n",
    "uscity.columns = ['city', 'state_id', 'state_name', 'county_fips', 'county_name',\n",
    "       'lat', 'lng', 'population', 'density', 'source', 'military',\n",
    "       'incorporated', 'timezone', 'ranking', 'zips', 'id']"
   ]
  },
  {
   "cell_type": "markdown",
   "id": "71458e3c",
   "metadata": {
    "id": "71458e3c"
   },
   "source": [
    "### Tutorial Bagaimana Cara Melakukan Query Menggunakan Pandasql"
   ]
  },
  {
   "cell_type": "markdown",
   "id": "2ad629e1",
   "metadata": {
    "id": "2ad629e1"
   },
   "source": [
    "Contoh: Bagaimana melakukan query untuk mendapatkan kota-kota dari worldcity yang merupakan:\n",
    "- berada di antara 33 - 40 'latitude'\n",
    "- berada di antara 100 - 140 'longitude'\n",
    "- merupakan kota 'primary' pada kolom 'capital'\n",
    "- memiliki populasi lebih dari 20 juta"
   ]
  },
  {
   "cell_type": "code",
   "execution_count": 4,
   "id": "7c97be7f",
   "metadata": {
    "id": "7c97be7f",
    "outputId": "45c9cbe3-fe5b-4c63-ac93-df958618ff31"
   },
   "outputs": [
    {
     "data": {
      "text/html": [
       "<div>\n",
       "<style scoped>\n",
       "    .dataframe tbody tr th:only-of-type {\n",
       "        vertical-align: middle;\n",
       "    }\n",
       "\n",
       "    .dataframe tbody tr th {\n",
       "        vertical-align: top;\n",
       "    }\n",
       "\n",
       "    .dataframe thead th {\n",
       "        text-align: right;\n",
       "    }\n",
       "</style>\n",
       "<table border=\"1\" class=\"dataframe\">\n",
       "  <thead>\n",
       "    <tr style=\"text-align: right;\">\n",
       "      <th></th>\n",
       "      <th>city</th>\n",
       "      <th>lat</th>\n",
       "      <th>lng</th>\n",
       "      <th>country</th>\n",
       "      <th>iso2</th>\n",
       "      <th>iso3</th>\n",
       "      <th>capital</th>\n",
       "      <th>population</th>\n",
       "      <th>id</th>\n",
       "    </tr>\n",
       "  </thead>\n",
       "  <tbody>\n",
       "    <tr>\n",
       "      <th>0</th>\n",
       "      <td>Tokyo</td>\n",
       "      <td>35.6897</td>\n",
       "      <td>139.6922</td>\n",
       "      <td>Japan</td>\n",
       "      <td>JP</td>\n",
       "      <td>JPN</td>\n",
       "      <td>primary</td>\n",
       "      <td>37977000.0</td>\n",
       "      <td>1392685764</td>\n",
       "    </tr>\n",
       "    <tr>\n",
       "      <th>1</th>\n",
       "      <td>Jakarta</td>\n",
       "      <td>-6.2146</td>\n",
       "      <td>106.8451</td>\n",
       "      <td>Indonesia</td>\n",
       "      <td>ID</td>\n",
       "      <td>IDN</td>\n",
       "      <td>primary</td>\n",
       "      <td>34540000.0</td>\n",
       "      <td>1360771077</td>\n",
       "    </tr>\n",
       "    <tr>\n",
       "      <th>2</th>\n",
       "      <td>Delhi</td>\n",
       "      <td>28.6600</td>\n",
       "      <td>77.2300</td>\n",
       "      <td>India</td>\n",
       "      <td>IN</td>\n",
       "      <td>IND</td>\n",
       "      <td>admin</td>\n",
       "      <td>29617000.0</td>\n",
       "      <td>1356872604</td>\n",
       "    </tr>\n",
       "    <tr>\n",
       "      <th>3</th>\n",
       "      <td>Mumbai</td>\n",
       "      <td>18.9667</td>\n",
       "      <td>72.8333</td>\n",
       "      <td>India</td>\n",
       "      <td>IN</td>\n",
       "      <td>IND</td>\n",
       "      <td>admin</td>\n",
       "      <td>23355000.0</td>\n",
       "      <td>1356226629</td>\n",
       "    </tr>\n",
       "    <tr>\n",
       "      <th>4</th>\n",
       "      <td>Manila</td>\n",
       "      <td>14.6000</td>\n",
       "      <td>120.9833</td>\n",
       "      <td>Philippines</td>\n",
       "      <td>PH</td>\n",
       "      <td>PHL</td>\n",
       "      <td>primary</td>\n",
       "      <td>23088000.0</td>\n",
       "      <td>1608618140</td>\n",
       "    </tr>\n",
       "    <tr>\n",
       "      <th>...</th>\n",
       "      <td>...</td>\n",
       "      <td>...</td>\n",
       "      <td>...</td>\n",
       "      <td>...</td>\n",
       "      <td>...</td>\n",
       "      <td>...</td>\n",
       "      <td>...</td>\n",
       "      <td>...</td>\n",
       "      <td>...</td>\n",
       "    </tr>\n",
       "    <tr>\n",
       "      <th>40996</th>\n",
       "      <td>Tukchi</td>\n",
       "      <td>57.3670</td>\n",
       "      <td>139.5000</td>\n",
       "      <td>Russia</td>\n",
       "      <td>RU</td>\n",
       "      <td>RUS</td>\n",
       "      <td>NaN</td>\n",
       "      <td>10.0</td>\n",
       "      <td>1643472801</td>\n",
       "    </tr>\n",
       "    <tr>\n",
       "      <th>40997</th>\n",
       "      <td>Numto</td>\n",
       "      <td>63.6667</td>\n",
       "      <td>71.3333</td>\n",
       "      <td>Russia</td>\n",
       "      <td>RU</td>\n",
       "      <td>RUS</td>\n",
       "      <td>NaN</td>\n",
       "      <td>10.0</td>\n",
       "      <td>1643985006</td>\n",
       "    </tr>\n",
       "    <tr>\n",
       "      <th>40998</th>\n",
       "      <td>Nord</td>\n",
       "      <td>81.7166</td>\n",
       "      <td>-17.8000</td>\n",
       "      <td>Greenland</td>\n",
       "      <td>GL</td>\n",
       "      <td>GRL</td>\n",
       "      <td>NaN</td>\n",
       "      <td>10.0</td>\n",
       "      <td>1304217709</td>\n",
       "    </tr>\n",
       "    <tr>\n",
       "      <th>40999</th>\n",
       "      <td>Timmiarmiut</td>\n",
       "      <td>62.5333</td>\n",
       "      <td>-42.2167</td>\n",
       "      <td>Greenland</td>\n",
       "      <td>GL</td>\n",
       "      <td>GRL</td>\n",
       "      <td>NaN</td>\n",
       "      <td>10.0</td>\n",
       "      <td>1304206491</td>\n",
       "    </tr>\n",
       "    <tr>\n",
       "      <th>41000</th>\n",
       "      <td>Nordvik</td>\n",
       "      <td>74.0165</td>\n",
       "      <td>111.5100</td>\n",
       "      <td>Russia</td>\n",
       "      <td>RU</td>\n",
       "      <td>RUS</td>\n",
       "      <td>NaN</td>\n",
       "      <td>0.0</td>\n",
       "      <td>1643587468</td>\n",
       "    </tr>\n",
       "  </tbody>\n",
       "</table>\n",
       "<p>41001 rows × 9 columns</p>\n",
       "</div>"
      ],
      "text/plain": [
       "              city      lat       lng      country iso2 iso3  capital  \\\n",
       "0            Tokyo  35.6897  139.6922        Japan   JP  JPN  primary   \n",
       "1          Jakarta  -6.2146  106.8451    Indonesia   ID  IDN  primary   \n",
       "2            Delhi  28.6600   77.2300        India   IN  IND    admin   \n",
       "3           Mumbai  18.9667   72.8333        India   IN  IND    admin   \n",
       "4           Manila  14.6000  120.9833  Philippines   PH  PHL  primary   \n",
       "...            ...      ...       ...          ...  ...  ...      ...   \n",
       "40996       Tukchi  57.3670  139.5000       Russia   RU  RUS      NaN   \n",
       "40997        Numto  63.6667   71.3333       Russia   RU  RUS      NaN   \n",
       "40998         Nord  81.7166  -17.8000    Greenland   GL  GRL      NaN   \n",
       "40999  Timmiarmiut  62.5333  -42.2167    Greenland   GL  GRL      NaN   \n",
       "41000      Nordvik  74.0165  111.5100       Russia   RU  RUS      NaN   \n",
       "\n",
       "       population          id  \n",
       "0      37977000.0  1392685764  \n",
       "1      34540000.0  1360771077  \n",
       "2      29617000.0  1356872604  \n",
       "3      23355000.0  1356226629  \n",
       "4      23088000.0  1608618140  \n",
       "...           ...         ...  \n",
       "40996        10.0  1643472801  \n",
       "40997        10.0  1643985006  \n",
       "40998        10.0  1304217709  \n",
       "40999        10.0  1304206491  \n",
       "41000         0.0  1643587468  \n",
       "\n",
       "[41001 rows x 9 columns]"
      ]
     },
     "execution_count": 4,
     "metadata": {},
     "output_type": "execute_result"
    }
   ],
   "source": [
    "worldcity"
   ]
  },
  {
   "cell_type": "markdown",
   "id": "e83d025c",
   "metadata": {
    "id": "be3f6489",
    "outputId": "65b0c4a7-1306-42b2-9f6c-8e1eeea80a26"
   },
   "source": [
    "query = \"\"\"\n",
    "SELECT \n",
    "FROM \n",
    "WHERE \n",
    "AND \n",
    "\"\"\"\n",
    "\n",
    "sql_run(query)"
   ]
  },
  {
   "cell_type": "markdown",
   "id": "ff068191",
   "metadata": {
    "id": "ff068191"
   },
   "source": [
    "### Question 1 Point : 40"
   ]
  },
  {
   "cell_type": "markdown",
   "id": "29b7b49c",
   "metadata": {
    "id": "29b7b49c"
   },
   "source": [
    "Temukan kota-kota dari worldcity yang memenuhi semua kondisi ini:\n",
    "- populasi kota tersebut melebih populasi dari kota terbanyak penduduknya di negara Filipina. (Maksudnya: misalnya kota X adalah kota di Filipina yang paling banyak penduduknya. Kita mau daftar kota-kota yang jumlah penduduknya lebih besar dari kota X tersebut), DAN\n",
    "- ada kota di Amerika Serikat (uscity) dengan nama kota yang sama dengan kota-kota pilihan\n",
    "\n",
    "Keluarkan hanya nama kota-kota yang memenuhi 2 syarat di atas saja, tidak usah kolom-kolom lain.\n",
    "\n",
    "##### NOTE: Hilangkan duplicate rows.\n",
    "\n",
    "Lakukan hanya 1x query saja, jangan melakukan lebih dari 1 query"
   ]
  },
  {
   "cell_type": "code",
   "execution_count": 15,
   "id": "2a4e7ab5",
   "metadata": {
    "id": "2a4e7ab5"
   },
   "outputs": [
    {
     "data": {
      "text/html": [
       "<div>\n",
       "<style scoped>\n",
       "    .dataframe tbody tr th:only-of-type {\n",
       "        vertical-align: middle;\n",
       "    }\n",
       "\n",
       "    .dataframe tbody tr th {\n",
       "        vertical-align: top;\n",
       "    }\n",
       "\n",
       "    .dataframe thead th {\n",
       "        text-align: right;\n",
       "    }\n",
       "</style>\n",
       "<table border=\"1\" class=\"dataframe\">\n",
       "  <thead>\n",
       "    <tr style=\"text-align: right;\">\n",
       "      <th></th>\n",
       "      <th>city</th>\n",
       "    </tr>\n",
       "  </thead>\n",
       "  <tbody>\n",
       "    <tr>\n",
       "      <th>0</th>\n",
       "      <td>Delhi</td>\n",
       "    </tr>\n",
       "  </tbody>\n",
       "</table>\n",
       "</div>"
      ],
      "text/plain": [
       "    city\n",
       "0  Delhi"
      ]
     },
     "execution_count": 15,
     "metadata": {},
     "output_type": "execute_result"
    }
   ],
   "source": [
    "query = \"\"\"\n",
    "SELECT DISTINCT w.city\n",
    "FROM \n",
    "      worldcity as w \n",
    "inner join\n",
    "      uscity as u\n",
    "on \n",
    "      w.city = u.city\n",
    "WHERE w.population > (SELECT MAX(population)\n",
    "                      FROM worldcity \n",
    "                      WHERE country = 'Philippines')\n",
    "ORDER BY w.city\n",
    "\n",
    "\"\"\"\n",
    "\n",
    "\n",
    "sql_run(query)"
   ]
  },
  {
   "cell_type": "markdown",
   "id": "e344a517",
   "metadata": {
    "id": "e344a517"
   },
   "source": [
    "### Question 2 Point : 60"
   ]
  },
  {
   "cell_type": "markdown",
   "id": "adebb3e7",
   "metadata": {
    "id": "adebb3e7"
   },
   "source": [
    "Temukan kota-kota di Amerika Serikat (uscity) yang memenuhi semua kondisi berikut:\n",
    "- memiliki nama 'city' yang tidak sama dengan 'state_name', dan juga\n",
    "- memiliki populasi di atas rata-rata populasi kota-kota di 'county_name' Miami-Dade, dan juga\n",
    "- terdiri dari dua atau lebih kata (contoh: Los Angeles, New York)\n",
    "\n",
    "Output yang diharapkan hanya kolom 'city' saja, tidak usah kolom yang lain\n",
    "\n",
    "Lakukan hanya 1x query saja, jangan melakukan lebih dari 1 query"
   ]
  },
  {
   "cell_type": "code",
   "execution_count": 16,
   "id": "4c760ecf",
   "metadata": {
    "id": "4c760ecf"
   },
   "outputs": [
    {
     "data": {
      "text/html": [
       "<div>\n",
       "<style scoped>\n",
       "    .dataframe tbody tr th:only-of-type {\n",
       "        vertical-align: middle;\n",
       "    }\n",
       "\n",
       "    .dataframe tbody tr th {\n",
       "        vertical-align: top;\n",
       "    }\n",
       "\n",
       "    .dataframe thead th {\n",
       "        text-align: right;\n",
       "    }\n",
       "</style>\n",
       "<table border=\"1\" class=\"dataframe\">\n",
       "  <thead>\n",
       "    <tr style=\"text-align: right;\">\n",
       "      <th></th>\n",
       "      <th>city</th>\n",
       "    </tr>\n",
       "  </thead>\n",
       "  <tbody>\n",
       "    <tr>\n",
       "      <th>0</th>\n",
       "      <td>Los Angeles</td>\n",
       "    </tr>\n",
       "    <tr>\n",
       "      <th>1</th>\n",
       "      <td>San Francisco</td>\n",
       "    </tr>\n",
       "    <tr>\n",
       "      <th>2</th>\n",
       "      <td>San Diego</td>\n",
       "    </tr>\n",
       "    <tr>\n",
       "      <th>3</th>\n",
       "      <td>Las Vegas</td>\n",
       "    </tr>\n",
       "    <tr>\n",
       "      <th>4</th>\n",
       "      <td>San Antonio</td>\n",
       "    </tr>\n",
       "    <tr>\n",
       "      <th>...</th>\n",
       "      <td>...</td>\n",
       "    </tr>\n",
       "    <tr>\n",
       "      <th>84</th>\n",
       "      <td>South Lyon</td>\n",
       "    </tr>\n",
       "    <tr>\n",
       "      <th>85</th>\n",
       "      <td>Lehigh Acres</td>\n",
       "    </tr>\n",
       "    <tr>\n",
       "      <th>86</th>\n",
       "      <td>East Los Angeles</td>\n",
       "    </tr>\n",
       "    <tr>\n",
       "      <th>87</th>\n",
       "      <td>St. George</td>\n",
       "    </tr>\n",
       "    <tr>\n",
       "      <th>88</th>\n",
       "      <td>Yuba City</td>\n",
       "    </tr>\n",
       "  </tbody>\n",
       "</table>\n",
       "<p>89 rows × 1 columns</p>\n",
       "</div>"
      ],
      "text/plain": [
       "                city\n",
       "0        Los Angeles\n",
       "1      San Francisco\n",
       "2          San Diego\n",
       "3          Las Vegas\n",
       "4        San Antonio\n",
       "..               ...\n",
       "84        South Lyon\n",
       "85      Lehigh Acres\n",
       "86  East Los Angeles\n",
       "87        St. George\n",
       "88         Yuba City\n",
       "\n",
       "[89 rows x 1 columns]"
      ]
     },
     "execution_count": 16,
     "metadata": {},
     "output_type": "execute_result"
    }
   ],
   "source": [
    "query = \"\"\"\n",
    "SELECT DISTINCT city\n",
    "FROM uscity \n",
    "WHERE population > (SELECT avg(population) \n",
    "                    FROM uscity \n",
    "                    WHERE county_name = 'Miami-Dade')\n",
    "AND city != state_name\n",
    "AND city like '% %'\n",
    "\"\"\"\n",
    "sql_run(query)"
   ]
  },
  {
   "cell_type": "code",
   "execution_count": null,
   "id": "37153b8a",
   "metadata": {
    "id": "37153b8a"
   },
   "outputs": [],
   "source": []
  }
 ],
 "metadata": {
  "colab": {
   "provenance": []
  },
  "kernelspec": {
   "display_name": "Python 3 (ipykernel)",
   "language": "python",
   "name": "python3"
  },
  "language_info": {
   "codemirror_mode": {
    "name": "ipython",
    "version": 3
   },
   "file_extension": ".py",
   "mimetype": "text/x-python",
   "name": "python",
   "nbconvert_exporter": "python",
   "pygments_lexer": "ipython3",
   "version": "3.9.7"
  }
 },
 "nbformat": 4,
 "nbformat_minor": 5
}
