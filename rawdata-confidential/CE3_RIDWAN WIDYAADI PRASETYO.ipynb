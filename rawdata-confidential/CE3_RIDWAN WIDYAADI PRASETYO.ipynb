{
 "cells": [
  {
   "cell_type": "markdown",
   "metadata": {
    "id": "hhIQeEv4JdpK"
   },
   "source": [
    "## Selamat datang di Tantangan Coding Minggu ke-3!\n",
    "### Tema minggu ini adalah: String!\n",
    "\n",
    "Mulai minggu ini, metode inisialisasi fungsi tidak akan diberikan. Anda harus mencari tahu sendiri. Keep up the good work!\n",
    "\n",
    "Anda hanya perlu **menyelesaikan 2 pertanyaan**!"
   ]
  },
  {
   "cell_type": "markdown",
   "metadata": {
    "id": "ZwHc-3vSJdpj"
   },
   "source": [
    "Problem 1: Temukan jumlah substring."
   ]
  },
  {
   "cell_type": "markdown",
   "metadata": {
    "id": "_rD65MuvJdpm"
   },
   "source": [
    "Buatlah fungsi yang bernama ```substring_count``` yang dapat melakukan: \n",
    "\n",
    "Diberikan string dan substring. Hitung berapa kali substring muncul di string. Input pertama selalu berupa string (yang lebih panjang), dan input kedua selalu berupa substring (yang lebih pendek).\n",
    "\n",
    "##### Example 1:\n",
    "\n",
    "Input:\n",
    "\n",
    "string = 'ABCDCDC'\n",
    "\n",
    "substring = 'CD'\n",
    "\n",
    "Berapa kali 'CD' muncul di 'ABCDCDC'?\n",
    "2 kali! Jadi saat kita menjalankan ```substring_count('ABCDCDC', 'CD')``` hasilnya akan menjadi '2'. \n",
    "\n",
    "Output: 2\n",
    "\n",
    "##### Example 2:\n",
    "\n",
    "String:\n",
    "\n",
    "string = 'ABCDCDC'\n",
    "\n",
    "substring = 'CDC'\n",
    "\n",
    "Berapa kali 'CDC' muncul di 'ABCDCDC'?\n",
    "2 kali! Ya, itu bisa tumpang tindih. AB**CDC**DC, dan ABCD**CDC**. Jadi, saat kita menjalankan ```substring_count('ABCDCDC', 'CDC')``` hasilnya akan '2'. \n",
    "\n",
    "Output: 2\n",
    "\n",
    "##### Example 3:\n",
    "\n",
    "string = 'DEDFDEDEDEG'\n",
    "\n",
    "substring = 'DED'\n",
    "\n",
    "3 kali! Pertama: **DED**FDEDEDEG. Kedua: DEDF**DED**EDEG. Ketiga: DEDFDE**DED**EG.\n",
    "\n",
    "Output: 3"
   ]
  },
  {
   "cell_type": "code",
   "execution_count": 1,
   "metadata": {
    "id": "-dQgvKqmJdpp"
   },
   "outputs": [],
   "source": [
    "### Write your solution here ###\n",
    "def substring_count(string, seek):\n",
    "    seek_len = len(seek)\n",
    "    return sum(c == seek[0] and string[i:i + seek_len] == seek\n",
    "                  for i, c in enumerate(string))\n",
    "    "
   ]
  },
  {
   "cell_type": "code",
   "execution_count": 2,
   "metadata": {
    "id": "Um0FiJYdJdps"
   },
   "outputs": [
    {
     "data": {
      "text/plain": [
       "2"
      ]
     },
     "execution_count": 2,
     "metadata": {},
     "output_type": "execute_result"
    }
   ],
   "source": [
    "# Example 1:\n",
    "substring_count('ABCDCDC', 'CD')\n",
    "#Expected output= 2"
   ]
  },
  {
   "cell_type": "code",
   "execution_count": 3,
   "metadata": {
    "id": "T4YeC9kmJdpv"
   },
   "outputs": [
    {
     "data": {
      "text/plain": [
       "2"
      ]
     },
     "execution_count": 3,
     "metadata": {},
     "output_type": "execute_result"
    }
   ],
   "source": [
    "# Example 2:\n",
    "substring_count('ABCDCDC', 'CDC')"
   ]
  },
  {
   "cell_type": "code",
   "execution_count": 4,
   "metadata": {},
   "outputs": [
    {
     "data": {
      "text/plain": [
       "3"
      ]
     },
     "execution_count": 4,
     "metadata": {},
     "output_type": "execute_result"
    }
   ],
   "source": [
    "# Example 3:\n",
    "substring_count('DEDFDEDEDEG', 'DED')"
   ]
  },
  {
   "cell_type": "markdown",
   "metadata": {
    "id": "kPc42YPuJdpw"
   },
   "source": [
    "Problem 2: Berapa banyak huruf berbeda yang ada di string?"
   ]
  },
  {
   "cell_type": "markdown",
   "metadata": {
    "id": "YtkU_gLYJdpx"
   },
   "source": [
    "Buat fungsi yang bernama ```diff_letters``` yang menghitung jumlah huruf yang berbeda yang terdapat pada string\n",
    "\n",
    "Input hanya berupa string tunggal.\n",
    "\n",
    "##### Example 1:\n",
    "\n",
    "Input: 'AAAAAAAAAB'\n",
    "\n",
    "Karena hanya ada 2 huruf berbeda dalam string input, keluarannya adalah 2.\n",
    "\n",
    "Saat kita menjalankan ```diff_letters```, outputnya adalah '2'.\n",
    "\n",
    "Output: 2\n",
    "\n",
    "##### Example 2:\n",
    "\n",
    "Input: 'ABCDAAAABBCCCE'\n",
    "\n",
    "Karena ada 5 huruf berbeda dalam string itu (A, B, C, D, E), hasilnya adalah 5.\n",
    "\n",
    "Output: 5"
   ]
  },
  {
   "cell_type": "code",
   "execution_count": 5,
   "metadata": {
    "id": "uQkNjT2kJdpz"
   },
   "outputs": [],
   "source": [
    "### Write your code here ###\n",
    "def diff_letter(word) :\n",
    "    set_word = set(word)\n",
    "    return len(set_word)"
   ]
  },
  {
   "cell_type": "code",
   "execution_count": 6,
   "metadata": {},
   "outputs": [
    {
     "data": {
      "text/plain": [
       "2"
      ]
     },
     "execution_count": 6,
     "metadata": {},
     "output_type": "execute_result"
    }
   ],
   "source": [
    "# Example 1 :\n",
    "diff_letter('AAAAAAAAAB')"
   ]
  },
  {
   "cell_type": "code",
   "execution_count": 7,
   "metadata": {
    "id": "_BAImneoJdp0",
    "scrolled": true
   },
   "outputs": [
    {
     "data": {
      "text/plain": [
       "5"
      ]
     },
     "execution_count": 7,
     "metadata": {},
     "output_type": "execute_result"
    }
   ],
   "source": [
    "# Example 2 :\n",
    "diff_letter('ABCDAAAABBCCCE')"
   ]
  },
  {
   "cell_type": "markdown",
   "metadata": {
    "id": "fiXI1RgZJdp3"
   },
   "source": [
    "Problem 3: Temukan Jarak Antara Dua Koordinat - Medium"
   ]
  },
  {
   "cell_type": "markdown",
   "metadata": {
    "id": "TZx_zMmbJdp3"
   },
   "source": [
    "Buatlah fungsi yang bernama ```distance``` yang dapat melakukan:\n",
    "\n",
    "Diberikan dua koordinat dalam list. Tugas Anda adalah menghitung jarak antara kedua koordinat tersebut. Input dari fungsi Anda akan berupa string. Koordinat yang muncul pertama adalah koordinat pertama, dan koordinat yang muncul setelah koma adalah koordinat kedua.\n",
    "\n",
    "##### Example 1:\n",
    "\n",
    "Input: \n",
    "\n",
    "'(5,5), (1,2)'\n",
    "\n",
    "Artinya, koordinat titik pertama adalah (5,5), koordinat titik kedua adalah (1,2). Untuk menghitung jarak antara dua titik ini, kami menggunakan rumus jarak euclidean biasa yang dapat dibaca di link berikut: https://wikimedia.org/api/rest_v1/media/math/render/svg/2e0c9ce1b3455cb9e92c6bad6684dbda02f69c82. \n",
    "\n",
    "Jaraknya adalah: \n",
    "\n",
    "Akar kuadrat dari ((5-1)^2 + (5-2)^2) = Akar kuadrat dari (16 + 9) = Akar kuadrat dari (25) = 5.\n",
    "\n",
    "Output: 'Jaraknya adalah 5'\n",
    "\n",
    "Jadi, saat kita menjalankan ```distance('(5,5),(1,2)')``` Outputnya adalah 'Jaraknya adalah 5'.\n",
    "\n",
    "##### Example 2:\n",
    "\n",
    "Input:\n",
    "\n",
    "'(0,-1), (-3,2)'\n",
    "\n",
    "TKoordinat pertama adalah (0,-1), koordinat kedua adalah (-3,2). Jarak antara mereka adalah:\n",
    "\n",
    "Akar kuadrat dari ((0- -3)^2 + (-1-2)^2) = Akar kuadrat dari (9 + 9) = Akar kuadrat dari (18) = 4,242640687\n",
    "\n",
    "Output: 'Jaraknya adalah 4.242640687'\n",
    "\n",
    "Jadi, saat kita menjalankan ```distance('(0,-1),(-3,2)')``` Outputnya adalah 'Jaraknya adalah 4.242640487'\n",
    "\n",
    "##### FAQ:\n",
    "\n",
    "- Question: \"Desimalnya dibuletin ga?\"\n",
    "- Answer: \"Ga usah peduliin format output desimalnya. Mau keluar berapa angka di belakang koma gpp kok. Yang penting value nya bener.\" \n",
    "- Question: \"Lha bedanya apa sama soal week 2?\"\n",
    "- Answer: \"Bedanya kali ini inputnya cuma 1, dan dia berupa teks (string), bukan list kyk minggu lalu. Semangat!\""
   ]
  },
  {
   "cell_type": "code",
   "execution_count": 36,
   "metadata": {
    "id": "_z7gXtaTJdp9"
   },
   "outputs": [],
   "source": [
    "import math\n",
    "def distance(string1,string2):\n",
    "    li_1 = list(string1.split(\",\"))\n",
    "    test_list1 = [int(i) for i in li_1]\n",
    "    li_2 = list(string2.split(\",\"))\n",
    "    test_list2 = [int(i) for i in li_2]\n",
    "    result = math.dist(test_list1,test_list2)\n",
    "    return result\n",
    "    \n",
    "    \n",
    "    "
   ]
  },
  {
   "cell_type": "code",
   "execution_count": 38,
   "metadata": {
    "id": "MT6iH_F4Jdp_",
    "outputId": "dc88c5e7-36b5-4463-f6bc-14f3f94d7848"
   },
   "outputs": [
    {
     "data": {
      "text/plain": [
       "5.0"
      ]
     },
     "execution_count": 38,
     "metadata": {},
     "output_type": "execute_result"
    }
   ],
   "source": [
    "# Example 1\n",
    "distance((\"5,5\"),(\"1,2\"))"
   ]
  },
  {
   "cell_type": "code",
   "execution_count": 39,
   "metadata": {},
   "outputs": [
    {
     "data": {
      "text/plain": [
       "4.242640687119286"
      ]
     },
     "execution_count": 39,
     "metadata": {},
     "output_type": "execute_result"
    }
   ],
   "source": [
    "# Example 2\n",
    "distance((\"0,-1\"),(\"-3,2\"))"
   ]
  },
  {
   "cell_type": "code",
   "execution_count": null,
   "metadata": {},
   "outputs": [],
   "source": []
  }
 ],
 "metadata": {
  "colab": {
   "provenance": []
  },
  "kernelspec": {
   "display_name": "Python 3 (ipykernel)",
   "language": "python",
   "name": "python3"
  },
  "language_info": {
   "codemirror_mode": {
    "name": "ipython",
    "version": 3
   },
   "file_extension": ".py",
   "mimetype": "text/x-python",
   "name": "python",
   "nbconvert_exporter": "python",
   "pygments_lexer": "ipython3",
   "version": "3.9.7"
  }
 },
 "nbformat": 4,
 "nbformat_minor": 1
}
