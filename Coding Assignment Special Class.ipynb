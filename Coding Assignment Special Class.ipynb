{
 "cells": [
  {
   "cell_type": "code",
   "execution_count": 174,
   "id": "c959fb23",
   "metadata": {},
   "outputs": [
    {
     "name": "stdout",
     "output_type": "stream",
     "text": [
      "1 3 5 7 9 \n",
      "3 5 7 9 \n",
      "5 7 9 \n",
      "7 9 \n",
      "9 \n"
     ]
    }
   ],
   "source": [
    "arr = [1,3,5,7,9]\n",
    "\n",
    "n = len(arr)\n",
    "\n",
    "print(('{:0.0f} '*n).format(*arr))\n",
    "\n",
    "for i in range(1,n):                \n",
    "    for j in range(i+1, n+1):\n",
    "        num = arr[j -1]\n",
    "        den = arr[i - 1]\n",
    "        x = (num)       \n",
    "        print('{:0.0f}'.format(x), end=' ')  \n",
    "    print('')                       "
   ]
  },
  {
   "cell_type": "code",
   "execution_count": 175,
   "id": "3dcf5c69",
   "metadata": {},
   "outputs": [],
   "source": [
    "import numpy as np\n",
    "def bilangan_tiga_dan_lima(arr) :\n",
    "    arr=np.array([18, 15, 57, 54, 62, 16, 95, 28, 76, 83, 71, 84, 38, 57, 78, 96, 34,\n",
    "            66, 39, 50, 32, 25, 80, 29, 54, 28, 65, 15, 26,  8, 61, 66, 25, 38,\n",
    "            78, 99, 14, 49, 43,  2, 80, 65, 18, 30, 25, 65, 30, 66, 64, 81, 66,\n",
    "            5, 16, 44, 12, 24, 78, 89,  5, 96, 61,  7, 97, 59, 22,  8,  3, 19,\n",
    "            72, 33, 72, 22, 56, 53, 36, 83, 69, 22, 70,  6, 26, 40, 89, 97, 44,\n",
    "            40, 83, 18, 80, 89, 61, 91, 19, 61, 56, 16, 29, 11, 26, 92])\n",
    "    arr_3 = []\n",
    "    arr_5 = []\n",
    "    for array in arr:\n",
    "        if array % 3 == 0 :\n",
    "            arr_3.append(array)\n",
    "        if array % 5 == 0 :\n",
    "                arr_5.append(array)\n",
    "    print('jumlah kemunculan nilai yang habis dibagi 3 adalah: ',len(arr_3))\n",
    "    print('jumlah kemunculan nilai yang habis dibagi 3 adalah: ',len(arr_5))"
   ]
  },
  {
   "cell_type": "code",
   "execution_count": 176,
   "id": "35ad07c6",
   "metadata": {},
   "outputs": [
    {
     "name": "stdout",
     "output_type": "stream",
     "text": [
      "jumlah kemunculan nilai yang habis dibagi 3 adalah:  33\n",
      "jumlah kemunculan nilai yang habis dibagi 3 adalah:  20\n"
     ]
    }
   ],
   "source": [
    "bilangan_tiga_dan_lima(arr)"
   ]
  },
  {
   "cell_type": "code",
   "execution_count": 187,
   "id": "45d03db0",
   "metadata": {},
   "outputs": [
    {
     "name": "stdout",
     "output_type": "stream",
     "text": [
      "['mobil 7', 'mobil 6', 'mobil 5', 'mobil 4', 'mobil 3', 'mobil 2', 'mobil 1']\n",
      "['bus 4', 'bus 3', 'bus 2', 'bus 1']\n",
      "['motor 6', 'motor 5', 'motor 4', 'motor 3', 'motor 2', 'motor 1']\n",
      "['truck 5', 'truck 4', 'truck 3', 'truck 2', 'truck 1']\n",
      "['kucing 9', 'kucing 8', 'kucing 7', 'kucing 6', 'kucing 5', 'kucing 4', 'kucing 3', 'kucing 2', 'kucing 1']\n"
     ]
    }
   ],
   "source": [
    "def list_reverse(arr,size):\n",
    "   \n",
    "    if(size==1):\n",
    "        return arr\n",
    "    \n",
    "    elif(size==2):\n",
    "        arr[0],arr[1],=arr[1],arr[0]\n",
    "        \n",
    "        return arr\n",
    "    \n",
    "    else:\n",
    "        \n",
    "        i=0\n",
    "        while(i<size//2):\n",
    "            arr[i],arr[size-i-1]=arr[size-i-1],arr[i]\n",
    "            if((i!=i+1 and size-i-1 != size-i-2) and (i!=size-i-2 and size-i-1!=i+1)):\n",
    "                arr[i+1],arr[size-i-2]=arr[size-i-2],arr[i+1]\n",
    "            i+=2\n",
    "        return arr\n",
    "    \n",
    "arr=['mobil 1', 'mobil 2', 'mobil 3', 'mobil 4', 'mobil 5' ,'mobil 6', 'mobil 7']\n",
    "size=7\n",
    "print(list_reverse(arr,size))\n",
    "\n",
    "arr=['bus 1', 'bus 2', 'bus 3', 'bus 4']\n",
    "size=4\n",
    "print(list_reverse(arr,size))\n",
    "\n",
    "arr=['motor 1', 'motor 2', 'motor 3', 'motor 4', 'motor 5' ,'motor 6']\n",
    "size=6\n",
    "print(list_reverse(arr,size))\n",
    "\n",
    "arr=['truck 1', 'truck 2', 'truck 3', 'truck 4', 'truck 5']\n",
    "size=5\n",
    "print(list_reverse(arr,size))\n",
    "\n",
    "arr=['kucing 1', 'kucing 2', 'kucing 3', 'kucing 4', 'kucing 5' ,'kucing 6', 'kucing 7', 'kucing 8', 'kucing 9']\n",
    "size=9\n",
    "print(list_reverse(arr,size))"
   ]
  },
  {
   "cell_type": "code",
   "execution_count": null,
   "id": "e7c7e1e0",
   "metadata": {},
   "outputs": [],
   "source": []
  }
 ],
 "metadata": {
  "kernelspec": {
   "display_name": "Python 3 (ipykernel)",
   "language": "python",
   "name": "python3"
  },
  "language_info": {
   "codemirror_mode": {
    "name": "ipython",
    "version": 3
   },
   "file_extension": ".py",
   "mimetype": "text/x-python",
   "name": "python",
   "nbconvert_exporter": "python",
   "pygments_lexer": "ipython3",
   "version": "3.9.7"
  }
 },
 "nbformat": 4,
 "nbformat_minor": 5
}
