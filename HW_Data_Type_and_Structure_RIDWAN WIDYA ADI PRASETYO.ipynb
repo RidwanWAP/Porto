{
 "cells": [
  {
   "cell_type": "markdown",
   "id": "91477570",
   "metadata": {},
   "source": [
    "Tugas Coding Dibimbing"
   ]
  },
  {
   "cell_type": "markdown",
   "id": "baea16fe",
   "metadata": {},
   "source": [
    "No.1 Assignment #1\n",
    "\n",
    "Mini Challenges: Difficulty - Medium\n",
    "\n",
    "black_list_word = [‘andi’, ‘susi’, ‘bola’, ‘nasi’]\n",
    "\n",
    " \n",
    "\n",
    "kalimat: andi sedang makan nasi padang, output : ada black list word\n",
    "kalimat: sandi sedang makan bermain tenis, output : tidak ada black list word\n",
    "kalimat: andi dan sandi sedang makan, output : ada black list word\n",
    "kalimat: budi dan susi sedang makan, output : ada black list word\n",
    "kalimat: erna  sedang berenang, output : tidak ada black list word\n",
    "kalimat: raffa sedang makan bermain bola , output : ada black list word\n",
    " \n",
    "\n",
    "Tulislah code dalam python, dimana ketika diberikan inputan kalimat sesuai dengan kasus diatas maka outputnya adalah: \n",
    "\n",
    "ada black list word\n",
    "tidak ada black list word\n",
    "tergantung apakah ada word yang di black list dalam satu kalimat"
   ]
  },
  {
   "cell_type": "code",
   "execution_count": 60,
   "id": "07688e00",
   "metadata": {},
   "outputs": [
    {
     "name": "stdout",
     "output_type": "stream",
     "text": [
      "ada black list word\n",
      "tidak ada black list word\n",
      "ada black list word\n",
      "ada black list word\n",
      "ada black list word\n",
      "tidak ada black list word\n",
      "ada black list word\n"
     ]
    }
   ],
   "source": [
    "def check_sentence (my_sentence):\n",
    "    word_set = set(['andi','susi','bola','nasi'])\n",
    "    phrase_set = set(my_sentence.split())\n",
    "    if word_set.intersection(phrase_set):\n",
    "        return 'ada black list word'\n",
    "    else :\n",
    "        return'tidak ada black list word'\n",
    "\n",
    "print(check_sentence (\"andi sedang makan nasi padang\"))\n",
    "print(check_sentence (\"sandi sedang makan bermain tenis\"))\n",
    "print(check_sentence (\"andi dan sandi sedang makan\"))\n",
    "print(check_sentence (\"budi dan susi sedang makan\"))\n",
    "print(check_sentence (\"budi dan susi sedang makan\"))\n",
    "print(check_sentence (\"erna  sedang berenang\"))\n",
    "print(check_sentence (\"raffa sedang makan bermain bola\"))"
   ]
  },
  {
   "cell_type": "markdown",
   "id": "f3b1bd3b",
   "metadata": {},
   "source": [
    "Assignment #2\n",
    "\n",
    "Mini Challenges: Difficulty - Medium\n",
    "\n",
    "Write an if..else… code in Python to check whether a word is a  palindrome or not.\n",
    "\n",
    "Input: ‘malam’\n",
    "\n",
    "Output: ‘malam’ is a Palindrome\n",
    "\n",
    " \n",
    "\n",
    "Input: ‘ABUBA’\n",
    "\n",
    "Output: ‘ABUBA’ is a Palindrome\n",
    "\n",
    " \n",
    "\n",
    "Input: ‘ABBA’\n",
    "\n",
    "Output: ‘ABBA’ is a Palindrome\n",
    "\n",
    " \n",
    "\n",
    "Input: ‘Python’\n",
    "\n",
    "Output: ‘Python’ is not a Palindrome."
   ]
  },
  {
   "cell_type": "code",
   "execution_count": 10,
   "id": "40cb047b",
   "metadata": {},
   "outputs": [
    {
     "name": "stdout",
     "output_type": "stream",
     "text": [
      "malam ,\"is a palindrome \"\n",
      "ABUBA ,\"is a palindrome \"\n",
      "ABBA ,\"is a palindrome \"\n",
      "python ,\"is not a palindrome \"\n"
     ]
    }
   ],
   "source": [
    "def check_palindrome_1(words):\n",
    "    reversed_words = words[::-1]\n",
    "    status=1\n",
    "    if(words!=reversed_words):\n",
    "        status=0\n",
    "    return status\n",
    "\n",
    "\n",
    "words = \"malam\"\n",
    "status= check_palindrome_1(words)\n",
    "if(status):\n",
    "    print(f'{words} ,\"is a palindrome \"')\n",
    "else:\n",
    "    print(f'{words} ,\"is not a palindrome \"')\n",
    "    \n",
    "words = \"ABUBA\"\n",
    "status= check_palindrome_1(words)\n",
    "if(status):\n",
    "    print(f'{words} ,\"is a palindrome \"')\n",
    "else:\n",
    "    print(f'{words} ,\"is not a palindrome \"')\n",
    "\n",
    "words = \"ABBA\"\n",
    "status= check_palindrome_1(words)\n",
    "if(status):\n",
    "    print(f'{words} ,\"is a palindrome \"')\n",
    "else:\n",
    "    print(f'{words} ,\"is not a palindrome \"')\n",
    "    \n",
    "words = \"python\"\n",
    "status= check_palindrome_1(words)\n",
    "if(status):\n",
    "    print(f'{words} ,\"is a palindrome \"')\n",
    "else:\n",
    "    print(f'{words} ,\"is not a palindrome \"')"
   ]
  },
  {
   "cell_type": "code",
   "execution_count": null,
   "id": "de50747b",
   "metadata": {},
   "outputs": [],
   "source": []
  }
 ],
 "metadata": {
  "kernelspec": {
   "display_name": "Python 3 (ipykernel)",
   "language": "python",
   "name": "python3"
  },
  "language_info": {
   "codemirror_mode": {
    "name": "ipython",
    "version": 3
   },
   "file_extension": ".py",
   "mimetype": "text/x-python",
   "name": "python",
   "nbconvert_exporter": "python",
   "pygments_lexer": "ipython3",
   "version": "3.9.7"
  }
 },
 "nbformat": 4,
 "nbformat_minor": 5
}
