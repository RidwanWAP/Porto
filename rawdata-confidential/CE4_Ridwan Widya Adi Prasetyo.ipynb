{
 "cells": [
  {
   "cell_type": "markdown",
   "id": "rgyHha0XVqWk",
   "metadata": {
    "id": "rgyHha0XVqWk"
   },
   "source": [
    "## Welcome to Coding Exercise 4\n",
    "**Kamu hanya diminta untuk menyelesaikan 2 pertanyaan**\n"
   ]
  },
  {
   "cell_type": "markdown",
   "id": "yYHzZQQ7VqWo",
   "metadata": {
    "id": "yYHzZQQ7VqWo"
   },
   "source": [
    "### Question 1. \n",
    "### \"Shifting Members of an Array\""
   ]
  },
  {
   "cell_type": "markdown",
   "id": "HnQ0f2qIVqWp",
   "metadata": {
    "id": "HnQ0f2qIVqWp"
   },
   "source": [
    "Pada pertanyaan ini, kita ingin menggeser array ke kanan. seberapa banyak?\n",
    "Tergantung dari input\n",
    "\n",
    "##### Example 1:\n",
    "array = [1,2,3,4,5]\n",
    "steps = 3\n",
    "\n",
    "Kita harus menggeser array 3 langkah ke kanan.\n",
    "- Original array = [1,2,3,4,5]\n",
    "- Step 1 = [5,1,2,3,4]\n",
    "- Step 2 = [4,5,1,2,3]\n",
    "- Step 3 = [3,4,5,1,2]\n",
    "\n",
    "Answer = [3,4,5,1,2]\n",
    "\n",
    "##### Example 2:\n",
    "array = [1,2,3]\n",
    "steps = 5\n",
    "\n",
    "Kita harus menggeser array 3 langkah ke kanan.\n",
    "\n",
    "- Original array = [1,2,3]\n",
    "- Step 1 = [3,1,2]\n",
    "- Step 2 = [2,3,1]\n",
    "- Step 3 = [1,2,3]\n",
    "- Step 4 = [3,1,2]\n",
    "- Step 5 = [2,3,1]\n",
    "\n",
    "Answer = [2,3,1]"
   ]
  },
  {
   "cell_type": "code",
   "execution_count": 1,
   "id": "be18fc8d",
   "metadata": {},
   "outputs": [],
   "source": [
    "import numpy"
   ]
  },
  {
   "cell_type": "code",
   "execution_count": 2,
   "id": "fJsYHD2DVqWq",
   "metadata": {
    "id": "fJsYHD2DVqWq"
   },
   "outputs": [],
   "source": [
    "### Write your function here ###\n",
    "def shift(array,steps) :\n",
    "    return numpy.roll(array,steps)"
   ]
  },
  {
   "cell_type": "code",
   "execution_count": 3,
   "id": "qpDQUNijXhd7",
   "metadata": {
    "id": "qpDQUNijXhd7"
   },
   "outputs": [
    {
     "data": {
      "text/plain": [
       "array([2, 3, 4, 5, 1])"
      ]
     },
     "execution_count": 3,
     "metadata": {},
     "output_type": "execute_result"
    }
   ],
   "source": [
    "shift([1,2,3,4,5],4)\n",
    "\n",
    "# Expected Output: [2, 3, 4, 5, 1]"
   ]
  },
  {
   "cell_type": "code",
   "execution_count": 4,
   "id": "jnr5znJUVqWr",
   "metadata": {
    "id": "jnr5znJUVqWr"
   },
   "outputs": [
    {
     "data": {
      "text/plain": [
       "array(['budi', 'charlie', 'doni', 'andi'], dtype='<U7')"
      ]
     },
     "execution_count": 4,
     "metadata": {},
     "output_type": "execute_result"
    }
   ],
   "source": [
    "shift(['andi', 'budi', 'charlie', 'doni'],7)\n",
    "\n",
    "# Expected Output: ['budi', 'charlie', 'doni', 'andi']"
   ]
  },
  {
   "cell_type": "code",
   "execution_count": 5,
   "id": "LJaWSk-sW9ak",
   "metadata": {
    "id": "LJaWSk-sW9ak"
   },
   "outputs": [
    {
     "data": {
      "text/plain": [
       "array(['bing', '123', 'data', 'science', 'di', 'bim'], dtype='<U11')"
      ]
     },
     "execution_count": 5,
     "metadata": {},
     "output_type": "execute_result"
    }
   ],
   "source": [
    "shift(['di', 'bim', 'bing', 123, 'data', 'science'],10)\n",
    "\n",
    "# Expected Output: ['bing', 123, 'data', 'science', 'di', 'bim']"
   ]
  },
  {
   "cell_type": "markdown",
   "id": "MRxU2bsKVqWs",
   "metadata": {
    "id": "MRxU2bsKVqWs"
   },
   "source": [
    "### Question 2. \n",
    "### \"Segitiga Paskal\""
   ]
  },
  {
   "cell_type": "markdown",
   "id": "hBUS1vtjVqWs",
   "metadata": {
    "id": "hBUS1vtjVqWs"
   },
   "source": [
    "Kita akan membuat segitiga paskal sebanyak n-baris. fungsi yang dibuat harus bernama ```pascal```. Apabila belum mengetahui apa itu segitiga paskal, silahkan lihat video:https://www.youtube.com/watch?v=1D3KsvfB8b0 dan baca https://www.mathsisfun.com/pascals-triangle.html\n",
    "\n",
    "##### Example 1:\n",
    "Input = 4,\n",
    "\n",
    "Answer = [1,4,6,4,1]\n",
    "\n",
    "##### Example 2:\n",
    "input = 3,\n",
    "\n",
    "Answer = [1,3,3,1]\n",
    "\n"
   ]
  },
  {
   "cell_type": "code",
   "execution_count": 6,
   "id": "-Jkxdrn_VqWu",
   "metadata": {
    "id": "-Jkxdrn_VqWu"
   },
   "outputs": [],
   "source": [
    "def pascalLine(n):\n",
    "    newValue=1\n",
    "    row = [newValue]\n",
    "    for i in range (n):\n",
    "        newValue = (newValue * (n-i)) / ( i + 1 )\n",
    "        row.append(newValue)\n",
    "    print(row)\n",
    "    print()"
   ]
  },
  {
   "cell_type": "markdown",
   "id": "UJFlJIG_VqWv",
   "metadata": {
    "id": "UJFlJIG_VqWv"
   },
   "source": [
    "### Question 3"
   ]
  },
  {
   "cell_type": "markdown",
   "id": "q_vw2BtGVqWv",
   "metadata": {
    "id": "q_vw2BtGVqWv"
   },
   "source": [
    "### \"Jarak maksimal antara 3 titik\""
   ]
  },
  {
   "cell_type": "markdown",
   "id": "k6qNbSInVqWw",
   "metadata": {
    "id": "k6qNbSInVqWw"
   },
   "source": [
    "Terdapat 3 koordinat, tentukan jarak antar 2 titik mana yang memiliki jarak terjauh, dan berikan output jarak kedua titik tersebut. fungsi yang anda buat haurs bernama ```max_ditance```. titik koordinat pertama disebut 'A', titik kedua disebut'B', dan titik ketiga disebut 'C'\n",
    "\n",
    "##### Example:\n",
    "A = [1,2],\n",
    "B = [10,-10],\n",
    "C = [-3, 5]\n",
    "\n",
    "- The distance between AB = 15\n",
    "- The distance between BC = 19.8\n",
    "- The distance between AC = 5.0\n",
    "\n",
    "Answer = \"The point B,C are furthest apart with distance 19.8\"\n"
   ]
  },
  {
   "cell_type": "code",
   "execution_count": 7,
   "id": "la5u9FV4VqWw",
   "metadata": {
    "id": "la5u9FV4VqWw"
   },
   "outputs": [],
   "source": [
    "### Write your solution here ###\n",
    "import math\n",
    "def distance(A, B,C):\n",
    "    result1 = math.dist(A,B)\n",
    "    result2 = math.dist(B,C)\n",
    "    result3 = math.dist(A,C)\n",
    "    if result1 > result2 and result1 > result3 :\n",
    "        print('The point A,B are furthest apart with distance',result1)\n",
    "    elif result2 > result1 and result2 > result3 :\n",
    "        print('The point B,C are furthest apart with distance',result2)\n",
    "    else :\n",
    "        print('The point A,C are furthest apart with distance',result3)"
   ]
  },
  {
   "cell_type": "code",
   "execution_count": 8,
   "id": "AOlaM0grVqWy",
   "metadata": {
    "id": "AOlaM0grVqWy"
   },
   "outputs": [
    {
     "name": "stdout",
     "output_type": "stream",
     "text": [
      "The point B,C are furthest apart with distance 19.849433241279208\n"
     ]
    }
   ],
   "source": [
    "distance([1, 2],[10, -10],[-3,5])"
   ]
  }
 ],
 "metadata": {
  "colab": {
   "provenance": []
  },
  "kernelspec": {
   "display_name": "Python 3 (ipykernel)",
   "language": "python",
   "name": "python3"
  },
  "language_info": {
   "codemirror_mode": {
    "name": "ipython",
    "version": 3
   },
   "file_extension": ".py",
   "mimetype": "text/x-python",
   "name": "python",
   "nbconvert_exporter": "python",
   "pygments_lexer": "ipython3",
   "version": "3.9.7"
  }
 },
 "nbformat": 4,
 "nbformat_minor": 5
}
